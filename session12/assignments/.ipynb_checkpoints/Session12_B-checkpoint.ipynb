{
 "cells": [
  {
   "cell_type": "markdown",
   "metadata": {
    "ExecuteTime": {
     "end_time": "2020-10-17T18:31:48.536508Z",
     "start_time": "2020-10-17T18:31:48.089504Z"
    }
   },
   "source": [
    "Assignment B:\n",
    "## Target\n",
    "1. Download 50 (min) images each of people wearing hardhat, vest, mask and boots. \n",
    "2. Use these labels (same spelling and small letters):\n",
    "    1. hardhat\n",
    "    2. vest\n",
    "    3. mask\n",
    "    4. boots\n",
    "3. Use this to annotate bounding boxes around the hardhat, vest, mask and boots.\n",
    "4. Download JSON file. \n",
    "5. Describe the contents of this JSON file in FULL details (you don't need to describe all 10 instances, anyone would work). \n",
    "6. Refer to this tutorial . Find out the best total numbers of clusters. Upload link to your Colab File uploaded to GitHub.\n",
    "\n",
    "## Description of Jason-\n",
    ">1.Key: Example img_001.jpg116338. This is unique key (concatination of image name and image size) \n",
    ">2. filename: Name of the image file\n",
    ">3. size: Size of image\n",
    ">4. regions: It consists of shape_attributes and region_attributes (both described below)\n",
    ">>1. shape_attributes: It is collection of attributes describing the bonding boxes. Below are the fields.\n",
    ">>>1. name: There are 6 different options in vgg tool for region selection. As we have selected for rectanglur option, value is rect in jason file\n",
    ">>>2. x: We consider origin as top left corner of image. x is horizontal distance of bounding box top left corner from origin (Image's top left) \n",
    ">>>3. y: We consider origin as top left corner of image. y is vertical distance of bounding box top left corner from origin (Image's top left) \n",
    ">>>4. width: Width of bounding box\n",
    ">>>5. height: Height of bounding box\n",
    ">>2. region_attributes: It consists of region_attributes. We have only one region attribute named class\n",
    ">>>1. class: it is one of the four class values (hardhat, mask, boots, vest)\n",
    ">5. file_attributes: We have not used this attribute and this is empty for all images.\n",
    "\n",
    "### Cluster Number by K Means clustering Decided: 4\n"
   ]
  },
  {
   "cell_type": "code",
   "execution_count": 1,
   "metadata": {},
   "outputs": [],
   "source": [
    "import pandas as pd\n",
    "import numpy as np\n",
    "import json\n",
    "import csv\n",
    "import os\n",
    "from PIL import Image\n",
    "import matplotlib.pyplot as plt"
   ]
  },
  {
   "cell_type": "markdown",
   "metadata": {},
   "source": [
    "# Load JSON and prepare Data Frame"
   ]
  },
  {
   "cell_type": "code",
   "execution_count": 2,
   "metadata": {
    "ExecuteTime": {
     "end_time": "2020-10-17T18:31:49.695983Z",
     "start_time": "2020-10-17T18:31:49.650986Z"
    }
   },
   "outputs": [],
   "source": [
    "df = pd.read_json('s12_dataset.json').T"
   ]
  },
  {
   "cell_type": "code",
   "execution_count": 3,
   "metadata": {
    "ExecuteTime": {
     "end_time": "2020-10-17T18:31:50.066721Z",
     "start_time": "2020-10-17T18:31:50.034683Z"
    }
   },
   "outputs": [
    {
     "data": {
      "text/html": [
       "<div>\n",
       "<style scoped>\n",
       "    .dataframe tbody tr th:only-of-type {\n",
       "        vertical-align: middle;\n",
       "    }\n",
       "\n",
       "    .dataframe tbody tr th {\n",
       "        vertical-align: top;\n",
       "    }\n",
       "\n",
       "    .dataframe thead th {\n",
       "        text-align: right;\n",
       "    }\n",
       "</style>\n",
       "<table border=\"1\" class=\"dataframe\">\n",
       "  <thead>\n",
       "    <tr style=\"text-align: right;\">\n",
       "      <th></th>\n",
       "      <th>filename</th>\n",
       "      <th>size</th>\n",
       "      <th>regions</th>\n",
       "      <th>file_attributes</th>\n",
       "    </tr>\n",
       "  </thead>\n",
       "  <tbody>\n",
       "    <tr>\n",
       "      <th>0</th>\n",
       "      <td>img_001.jpg</td>\n",
       "      <td>116338</td>\n",
       "      <td>[{'shape_attributes': {'name': 'rect', 'x': 70...</td>\n",
       "      <td>{}</td>\n",
       "    </tr>\n",
       "    <tr>\n",
       "      <th>1</th>\n",
       "      <td>img_002.jpg</td>\n",
       "      <td>204699</td>\n",
       "      <td>[{'shape_attributes': {'name': 'rect', 'x': 76...</td>\n",
       "      <td>{}</td>\n",
       "    </tr>\n",
       "    <tr>\n",
       "      <th>2</th>\n",
       "      <td>img_003.jpg</td>\n",
       "      <td>66270</td>\n",
       "      <td>[{'shape_attributes': {'name': 'rect', 'x': 49...</td>\n",
       "      <td>{}</td>\n",
       "    </tr>\n",
       "    <tr>\n",
       "      <th>3</th>\n",
       "      <td>img_004.jpg</td>\n",
       "      <td>12112</td>\n",
       "      <td>[{'shape_attributes': {'name': 'rect', 'x': 13...</td>\n",
       "      <td>{}</td>\n",
       "    </tr>\n",
       "    <tr>\n",
       "      <th>4</th>\n",
       "      <td>img_005.jpg</td>\n",
       "      <td>325017</td>\n",
       "      <td>[{'shape_attributes': {'name': 'rect', 'x': 88...</td>\n",
       "      <td>{}</td>\n",
       "    </tr>\n",
       "  </tbody>\n",
       "</table>\n",
       "</div>"
      ],
      "text/plain": [
       "      filename    size                                            regions  \\\n",
       "0  img_001.jpg  116338  [{'shape_attributes': {'name': 'rect', 'x': 70...   \n",
       "1  img_002.jpg  204699  [{'shape_attributes': {'name': 'rect', 'x': 76...   \n",
       "2  img_003.jpg   66270  [{'shape_attributes': {'name': 'rect', 'x': 49...   \n",
       "3  img_004.jpg   12112  [{'shape_attributes': {'name': 'rect', 'x': 13...   \n",
       "4  img_005.jpg  325017  [{'shape_attributes': {'name': 'rect', 'x': 88...   \n",
       "\n",
       "  file_attributes  \n",
       "0              {}  \n",
       "1              {}  \n",
       "2              {}  \n",
       "3              {}  \n",
       "4              {}  "
      ]
     },
     "execution_count": 3,
     "metadata": {},
     "output_type": "execute_result"
    }
   ],
   "source": [
    "# Check header\n",
    "df.index = np.arange(0, len(df))\n",
    "df.head()"
   ]
  },
  {
   "cell_type": "code",
   "execution_count": 4,
   "metadata": {
    "ExecuteTime": {
     "end_time": "2020-10-17T18:31:50.463856Z",
     "start_time": "2020-10-17T18:31:50.454816Z"
    }
   },
   "outputs": [],
   "source": [
    "# Convert into multiple rows for regions columns\n",
    "df = df.explode('regions')\n",
    "df.reset_index(inplace=True,drop=True)"
   ]
  },
  {
   "cell_type": "code",
   "execution_count": 5,
   "metadata": {
    "ExecuteTime": {
     "end_time": "2020-10-17T18:31:56.152634Z",
     "start_time": "2020-10-17T18:31:56.146637Z"
    }
   },
   "outputs": [],
   "source": [
    "df.drop(df.columns[[1, 3]], axis = 1, inplace = True)"
   ]
  },
  {
   "cell_type": "code",
   "execution_count": 6,
   "metadata": {
    "ExecuteTime": {
     "end_time": "2020-10-17T18:31:56.577633Z",
     "start_time": "2020-10-17T18:31:56.560635Z"
    }
   },
   "outputs": [],
   "source": [
    "attrs = pd.DataFrame(pd.DataFrame(df['regions'].tolist())['shape_attributes'].tolist()).copy()\n",
    "attrs.drop(attrs.columns[[0]], axis = 1, inplace = True)"
   ]
  },
  {
   "cell_type": "code",
   "execution_count": 7,
   "metadata": {
    "ExecuteTime": {
     "end_time": "2020-10-17T18:31:56.792640Z",
     "start_time": "2020-10-17T18:31:56.783638Z"
    }
   },
   "outputs": [],
   "source": [
    "classes = pd.DataFrame(pd.DataFrame(df['regions'].tolist())['region_attributes'].tolist()).copy()"
   ]
  },
  {
   "cell_type": "markdown",
   "metadata": {},
   "source": [
    "## Create one-hot encoding for classes"
   ]
  },
  {
   "cell_type": "code",
   "execution_count": 8,
   "metadata": {
    "ExecuteTime": {
     "end_time": "2020-10-17T18:31:56.998643Z",
     "start_time": "2020-10-17T18:31:56.993643Z"
    }
   },
   "outputs": [],
   "source": [
    "classes = pd.get_dummies(classes)"
   ]
  },
  {
   "cell_type": "code",
   "execution_count": 9,
   "metadata": {
    "ExecuteTime": {
     "end_time": "2020-10-17T18:31:57.220634Z",
     "start_time": "2020-10-17T18:31:57.215642Z"
    }
   },
   "outputs": [],
   "source": [
    "df = pd.concat((df['filename'],attrs,classes),1)"
   ]
  },
  {
   "cell_type": "markdown",
   "metadata": {},
   "source": [
    "## Get image dimentions"
   ]
  },
  {
   "cell_type": "code",
   "execution_count": 10,
   "metadata": {
    "ExecuteTime": {
     "end_time": "2020-10-17T18:31:57.646639Z",
     "start_time": "2020-10-17T18:31:57.641639Z"
    }
   },
   "outputs": [],
   "source": [
    "def get_image_dims(folder_path):\n",
    "    \"\"\"Get image dimentions\"\"\"\n",
    "    filenames = os.listdir(folder_path)\n",
    "    csv_contents = [[\"filename\",\"widht\",\"height\"]]\n",
    "    for fl in filenames:\n",
    "        img = Image.open(os.path.join(folder_path, fl))\n",
    "        w, h = img.size\n",
    "        csv_contents.append([fl, w, h])\n",
    "    img_size = pd.DataFrame(csv_contents)\n",
    "    return(img_size)"
   ]
  },
  {
   "cell_type": "code",
   "execution_count": 11,
   "metadata": {
    "ExecuteTime": {
     "end_time": "2020-10-17T18:31:57.833634Z",
     "start_time": "2020-10-17T18:31:57.829638Z"
    }
   },
   "outputs": [],
   "source": [
    "path = r'.\\DataSet'"
   ]
  },
  {
   "cell_type": "code",
   "execution_count": 12,
   "metadata": {
    "ExecuteTime": {
     "end_time": "2020-10-17T18:31:58.034633Z",
     "start_time": "2020-10-17T18:31:58.030635Z"
    }
   },
   "outputs": [],
   "source": [
    "filenames = os.listdir(path)"
   ]
  },
  {
   "cell_type": "code",
   "execution_count": 13,
   "metadata": {
    "ExecuteTime": {
     "end_time": "2020-10-17T18:31:58.329230Z",
     "start_time": "2020-10-17T18:31:58.242638Z"
    }
   },
   "outputs": [],
   "source": [
    "img_dim= []\n",
    "for fl in filenames:\n",
    "    img = Image.open(os.path.join(path, fl))\n",
    "    w, h = img.size\n",
    "    img_dim.append([fl, w, h])"
   ]
  },
  {
   "cell_type": "code",
   "execution_count": 14,
   "metadata": {
    "ExecuteTime": {
     "end_time": "2020-10-17T18:31:58.519199Z",
     "start_time": "2020-10-17T18:31:58.514196Z"
    }
   },
   "outputs": [],
   "source": [
    "img_dim = pd.DataFrame(img_dim, columns=['filename','img_width', 'img_height'])"
   ]
  },
  {
   "cell_type": "markdown",
   "metadata": {},
   "source": [
    "## Merge dimentions with dataframe "
   ]
  },
  {
   "cell_type": "code",
   "execution_count": 15,
   "metadata": {
    "ExecuteTime": {
     "end_time": "2020-10-17T18:31:59.005196Z",
     "start_time": "2020-10-17T18:31:58.997198Z"
    }
   },
   "outputs": [],
   "source": [
    "df = df.merge(img_dim, how='outer', on='filename')"
   ]
  },
  {
   "cell_type": "code",
   "execution_count": 16,
   "metadata": {
    "ExecuteTime": {
     "end_time": "2020-10-17T18:31:59.496495Z",
     "start_time": "2020-10-17T18:31:59.478458Z"
    }
   },
   "outputs": [],
   "source": [
    "col_names = ['filename', 'img_width', 'img_height', 'x', 'y', 'width', 'height', 'class_boots', 'class_hardhat',\n",
    "       'class_mask', 'class_vest']\n",
    "df = df.reindex(columns=col_names)"
   ]
  },
  {
   "cell_type": "code",
   "execution_count": 17,
   "metadata": {
    "ExecuteTime": {
     "end_time": "2020-10-17T18:32:00.025045Z",
     "start_time": "2020-10-17T18:32:00.020046Z"
    }
   },
   "outputs": [],
   "source": [
    "df.rename(columns = {'x': 'bb_x', 'y': 'bb_y', 'width': 'bb_width', 'height': 'bb_height'}, inplace = True)"
   ]
  },
  {
   "cell_type": "markdown",
   "metadata": {},
   "source": [
    "## Check Data Frame"
   ]
  },
  {
   "cell_type": "code",
   "execution_count": 18,
   "metadata": {
    "ExecuteTime": {
     "end_time": "2020-10-17T18:32:00.627047Z",
     "start_time": "2020-10-17T18:32:00.611049Z"
    }
   },
   "outputs": [
    {
     "data": {
      "text/html": [
       "<div>\n",
       "<style scoped>\n",
       "    .dataframe tbody tr th:only-of-type {\n",
       "        vertical-align: middle;\n",
       "    }\n",
       "\n",
       "    .dataframe tbody tr th {\n",
       "        vertical-align: top;\n",
       "    }\n",
       "\n",
       "    .dataframe thead th {\n",
       "        text-align: right;\n",
       "    }\n",
       "</style>\n",
       "<table border=\"1\" class=\"dataframe\">\n",
       "  <thead>\n",
       "    <tr style=\"text-align: right;\">\n",
       "      <th></th>\n",
       "      <th>filename</th>\n",
       "      <th>img_width</th>\n",
       "      <th>img_height</th>\n",
       "      <th>bb_x</th>\n",
       "      <th>bb_y</th>\n",
       "      <th>bb_width</th>\n",
       "      <th>bb_height</th>\n",
       "      <th>class_boots</th>\n",
       "      <th>class_hardhat</th>\n",
       "      <th>class_mask</th>\n",
       "      <th>class_vest</th>\n",
       "    </tr>\n",
       "  </thead>\n",
       "  <tbody>\n",
       "    <tr>\n",
       "      <th>0</th>\n",
       "      <td>img_001.jpg</td>\n",
       "      <td>1125</td>\n",
       "      <td>632</td>\n",
       "      <td>706</td>\n",
       "      <td>47</td>\n",
       "      <td>286</td>\n",
       "      <td>189</td>\n",
       "      <td>0</td>\n",
       "      <td>1</td>\n",
       "      <td>0</td>\n",
       "      <td>0</td>\n",
       "    </tr>\n",
       "    <tr>\n",
       "      <th>1</th>\n",
       "      <td>img_001.jpg</td>\n",
       "      <td>1125</td>\n",
       "      <td>632</td>\n",
       "      <td>593</td>\n",
       "      <td>434</td>\n",
       "      <td>524</td>\n",
       "      <td>195</td>\n",
       "      <td>0</td>\n",
       "      <td>0</td>\n",
       "      <td>0</td>\n",
       "      <td>1</td>\n",
       "    </tr>\n",
       "    <tr>\n",
       "      <th>2</th>\n",
       "      <td>img_002.jpg</td>\n",
       "      <td>1600</td>\n",
       "      <td>1168</td>\n",
       "      <td>762</td>\n",
       "      <td>222</td>\n",
       "      <td>203</td>\n",
       "      <td>213</td>\n",
       "      <td>0</td>\n",
       "      <td>0</td>\n",
       "      <td>1</td>\n",
       "      <td>0</td>\n",
       "    </tr>\n",
       "    <tr>\n",
       "      <th>3</th>\n",
       "      <td>img_003.jpg</td>\n",
       "      <td>1024</td>\n",
       "      <td>683</td>\n",
       "      <td>498</td>\n",
       "      <td>281</td>\n",
       "      <td>130</td>\n",
       "      <td>95</td>\n",
       "      <td>0</td>\n",
       "      <td>0</td>\n",
       "      <td>1</td>\n",
       "      <td>0</td>\n",
       "    </tr>\n",
       "    <tr>\n",
       "      <th>4</th>\n",
       "      <td>img_004.jpg</td>\n",
       "      <td>225</td>\n",
       "      <td>225</td>\n",
       "      <td>132</td>\n",
       "      <td>119</td>\n",
       "      <td>53</td>\n",
       "      <td>40</td>\n",
       "      <td>0</td>\n",
       "      <td>0</td>\n",
       "      <td>1</td>\n",
       "      <td>0</td>\n",
       "    </tr>\n",
       "    <tr>\n",
       "      <th>...</th>\n",
       "      <td>...</td>\n",
       "      <td>...</td>\n",
       "      <td>...</td>\n",
       "      <td>...</td>\n",
       "      <td>...</td>\n",
       "      <td>...</td>\n",
       "      <td>...</td>\n",
       "      <td>...</td>\n",
       "      <td>...</td>\n",
       "      <td>...</td>\n",
       "      <td>...</td>\n",
       "    </tr>\n",
       "    <tr>\n",
       "      <th>254</th>\n",
       "      <td>img_108.jpg</td>\n",
       "      <td>300</td>\n",
       "      <td>168</td>\n",
       "      <td>229</td>\n",
       "      <td>38</td>\n",
       "      <td>69</td>\n",
       "      <td>47</td>\n",
       "      <td>1</td>\n",
       "      <td>0</td>\n",
       "      <td>0</td>\n",
       "      <td>0</td>\n",
       "    </tr>\n",
       "    <tr>\n",
       "      <th>255</th>\n",
       "      <td>img_109.jpg</td>\n",
       "      <td>262</td>\n",
       "      <td>192</td>\n",
       "      <td>77</td>\n",
       "      <td>92</td>\n",
       "      <td>47</td>\n",
       "      <td>64</td>\n",
       "      <td>1</td>\n",
       "      <td>0</td>\n",
       "      <td>0</td>\n",
       "      <td>0</td>\n",
       "    </tr>\n",
       "    <tr>\n",
       "      <th>256</th>\n",
       "      <td>img_109.jpg</td>\n",
       "      <td>262</td>\n",
       "      <td>192</td>\n",
       "      <td>20</td>\n",
       "      <td>124</td>\n",
       "      <td>25</td>\n",
       "      <td>32</td>\n",
       "      <td>1</td>\n",
       "      <td>0</td>\n",
       "      <td>0</td>\n",
       "      <td>0</td>\n",
       "    </tr>\n",
       "    <tr>\n",
       "      <th>257</th>\n",
       "      <td>img_110.jpg</td>\n",
       "      <td>780</td>\n",
       "      <td>500</td>\n",
       "      <td>318</td>\n",
       "      <td>104</td>\n",
       "      <td>132</td>\n",
       "      <td>181</td>\n",
       "      <td>1</td>\n",
       "      <td>0</td>\n",
       "      <td>0</td>\n",
       "      <td>0</td>\n",
       "    </tr>\n",
       "    <tr>\n",
       "      <th>258</th>\n",
       "      <td>img_110.jpg</td>\n",
       "      <td>780</td>\n",
       "      <td>500</td>\n",
       "      <td>141</td>\n",
       "      <td>108</td>\n",
       "      <td>214</td>\n",
       "      <td>201</td>\n",
       "      <td>1</td>\n",
       "      <td>0</td>\n",
       "      <td>0</td>\n",
       "      <td>0</td>\n",
       "    </tr>\n",
       "  </tbody>\n",
       "</table>\n",
       "<p>259 rows × 11 columns</p>\n",
       "</div>"
      ],
      "text/plain": [
       "        filename  img_width  img_height  bb_x  bb_y  bb_width  bb_height  \\\n",
       "0    img_001.jpg       1125         632   706    47       286        189   \n",
       "1    img_001.jpg       1125         632   593   434       524        195   \n",
       "2    img_002.jpg       1600        1168   762   222       203        213   \n",
       "3    img_003.jpg       1024         683   498   281       130         95   \n",
       "4    img_004.jpg        225         225   132   119        53         40   \n",
       "..           ...        ...         ...   ...   ...       ...        ...   \n",
       "254  img_108.jpg        300         168   229    38        69         47   \n",
       "255  img_109.jpg        262         192    77    92        47         64   \n",
       "256  img_109.jpg        262         192    20   124        25         32   \n",
       "257  img_110.jpg        780         500   318   104       132        181   \n",
       "258  img_110.jpg        780         500   141   108       214        201   \n",
       "\n",
       "     class_boots  class_hardhat  class_mask  class_vest  \n",
       "0              0              1           0           0  \n",
       "1              0              0           0           1  \n",
       "2              0              0           1           0  \n",
       "3              0              0           1           0  \n",
       "4              0              0           1           0  \n",
       "..           ...            ...         ...         ...  \n",
       "254            1              0           0           0  \n",
       "255            1              0           0           0  \n",
       "256            1              0           0           0  \n",
       "257            1              0           0           0  \n",
       "258            1              0           0           0  \n",
       "\n",
       "[259 rows x 11 columns]"
      ]
     },
     "execution_count": 18,
     "metadata": {},
     "output_type": "execute_result"
    }
   ],
   "source": [
    "df"
   ]
  },
  {
   "cell_type": "markdown",
   "metadata": {},
   "source": [
    "## Normalize image and bounding box width and height"
   ]
  },
  {
   "cell_type": "code",
   "execution_count": 19,
   "metadata": {
    "ExecuteTime": {
     "end_time": "2020-10-17T18:50:27.351118Z",
     "start_time": "2020-10-17T18:50:27.332116Z"
    }
   },
   "outputs": [
    {
     "data": {
      "text/html": [
       "<div>\n",
       "<style scoped>\n",
       "    .dataframe tbody tr th:only-of-type {\n",
       "        vertical-align: middle;\n",
       "    }\n",
       "\n",
       "    .dataframe tbody tr th {\n",
       "        vertical-align: top;\n",
       "    }\n",
       "\n",
       "    .dataframe thead th {\n",
       "        text-align: right;\n",
       "    }\n",
       "</style>\n",
       "<table border=\"1\" class=\"dataframe\">\n",
       "  <thead>\n",
       "    <tr style=\"text-align: right;\">\n",
       "      <th></th>\n",
       "      <th>filename</th>\n",
       "      <th>img_width</th>\n",
       "      <th>img_height</th>\n",
       "      <th>bb_x</th>\n",
       "      <th>bb_y</th>\n",
       "      <th>bb_width</th>\n",
       "      <th>bb_height</th>\n",
       "      <th>class_boots</th>\n",
       "      <th>class_hardhat</th>\n",
       "      <th>class_mask</th>\n",
       "      <th>class_vest</th>\n",
       "      <th>img_width_n</th>\n",
       "      <th>img_height_n</th>\n",
       "      <th>bb_width_n</th>\n",
       "      <th>bb_height_n</th>\n",
       "    </tr>\n",
       "  </thead>\n",
       "  <tbody>\n",
       "    <tr>\n",
       "      <th>0</th>\n",
       "      <td>img_001.jpg</td>\n",
       "      <td>1125</td>\n",
       "      <td>632</td>\n",
       "      <td>706</td>\n",
       "      <td>47</td>\n",
       "      <td>286</td>\n",
       "      <td>189</td>\n",
       "      <td>0</td>\n",
       "      <td>1</td>\n",
       "      <td>0</td>\n",
       "      <td>0</td>\n",
       "      <td>1.0</td>\n",
       "      <td>1.0</td>\n",
       "      <td>0.254222</td>\n",
       "      <td>0.299051</td>\n",
       "    </tr>\n",
       "    <tr>\n",
       "      <th>1</th>\n",
       "      <td>img_001.jpg</td>\n",
       "      <td>1125</td>\n",
       "      <td>632</td>\n",
       "      <td>593</td>\n",
       "      <td>434</td>\n",
       "      <td>524</td>\n",
       "      <td>195</td>\n",
       "      <td>0</td>\n",
       "      <td>0</td>\n",
       "      <td>0</td>\n",
       "      <td>1</td>\n",
       "      <td>1.0</td>\n",
       "      <td>1.0</td>\n",
       "      <td>0.465778</td>\n",
       "      <td>0.308544</td>\n",
       "    </tr>\n",
       "    <tr>\n",
       "      <th>2</th>\n",
       "      <td>img_002.jpg</td>\n",
       "      <td>1600</td>\n",
       "      <td>1168</td>\n",
       "      <td>762</td>\n",
       "      <td>222</td>\n",
       "      <td>203</td>\n",
       "      <td>213</td>\n",
       "      <td>0</td>\n",
       "      <td>0</td>\n",
       "      <td>1</td>\n",
       "      <td>0</td>\n",
       "      <td>1.0</td>\n",
       "      <td>1.0</td>\n",
       "      <td>0.126875</td>\n",
       "      <td>0.182363</td>\n",
       "    </tr>\n",
       "    <tr>\n",
       "      <th>3</th>\n",
       "      <td>img_003.jpg</td>\n",
       "      <td>1024</td>\n",
       "      <td>683</td>\n",
       "      <td>498</td>\n",
       "      <td>281</td>\n",
       "      <td>130</td>\n",
       "      <td>95</td>\n",
       "      <td>0</td>\n",
       "      <td>0</td>\n",
       "      <td>1</td>\n",
       "      <td>0</td>\n",
       "      <td>1.0</td>\n",
       "      <td>1.0</td>\n",
       "      <td>0.126953</td>\n",
       "      <td>0.139092</td>\n",
       "    </tr>\n",
       "    <tr>\n",
       "      <th>4</th>\n",
       "      <td>img_004.jpg</td>\n",
       "      <td>225</td>\n",
       "      <td>225</td>\n",
       "      <td>132</td>\n",
       "      <td>119</td>\n",
       "      <td>53</td>\n",
       "      <td>40</td>\n",
       "      <td>0</td>\n",
       "      <td>0</td>\n",
       "      <td>1</td>\n",
       "      <td>0</td>\n",
       "      <td>1.0</td>\n",
       "      <td>1.0</td>\n",
       "      <td>0.235556</td>\n",
       "      <td>0.177778</td>\n",
       "    </tr>\n",
       "  </tbody>\n",
       "</table>\n",
       "</div>"
      ],
      "text/plain": [
       "      filename  img_width  img_height  bb_x  bb_y  bb_width  bb_height  \\\n",
       "0  img_001.jpg       1125         632   706    47       286        189   \n",
       "1  img_001.jpg       1125         632   593   434       524        195   \n",
       "2  img_002.jpg       1600        1168   762   222       203        213   \n",
       "3  img_003.jpg       1024         683   498   281       130         95   \n",
       "4  img_004.jpg        225         225   132   119        53         40   \n",
       "\n",
       "   class_boots  class_hardhat  class_mask  class_vest  img_width_n  \\\n",
       "0            0              1           0           0          1.0   \n",
       "1            0              0           0           1          1.0   \n",
       "2            0              0           1           0          1.0   \n",
       "3            0              0           1           0          1.0   \n",
       "4            0              0           1           0          1.0   \n",
       "\n",
       "   img_height_n  bb_width_n  bb_height_n  \n",
       "0           1.0    0.254222     0.299051  \n",
       "1           1.0    0.465778     0.308544  \n",
       "2           1.0    0.126875     0.182363  \n",
       "3           1.0    0.126953     0.139092  \n",
       "4           1.0    0.235556     0.177778  "
      ]
     },
     "execution_count": 19,
     "metadata": {},
     "output_type": "execute_result"
    }
   ],
   "source": [
    "df['img_width_n']  = df['img_width'].div(df['img_width'])\n",
    "df['img_height_n'] = df['img_height'].div(df['img_height'])\n",
    "df['bb_width_n']     = df['bb_width'].div(df['img_width'])\n",
    "df['bb_height_n']    = df['bb_height'].div(df['img_height'])\n",
    "\n",
    "df.head()"
   ]
  },
  {
   "cell_type": "markdown",
   "metadata": {},
   "source": [
    "## Select normalized bounding box width and height for plot"
   ]
  },
  {
   "cell_type": "code",
   "execution_count": 20,
   "metadata": {
    "ExecuteTime": {
     "end_time": "2020-10-17T18:52:30.696202Z",
     "start_time": "2020-10-17T18:52:30.687203Z"
    }
   },
   "outputs": [
    {
     "data": {
      "text/html": [
       "<div>\n",
       "<style scoped>\n",
       "    .dataframe tbody tr th:only-of-type {\n",
       "        vertical-align: middle;\n",
       "    }\n",
       "\n",
       "    .dataframe tbody tr th {\n",
       "        vertical-align: top;\n",
       "    }\n",
       "\n",
       "    .dataframe thead th {\n",
       "        text-align: right;\n",
       "    }\n",
       "</style>\n",
       "<table border=\"1\" class=\"dataframe\">\n",
       "  <thead>\n",
       "    <tr style=\"text-align: right;\">\n",
       "      <th></th>\n",
       "      <th>bb_width_n</th>\n",
       "      <th>bb_height_n</th>\n",
       "    </tr>\n",
       "  </thead>\n",
       "  <tbody>\n",
       "    <tr>\n",
       "      <th>0</th>\n",
       "      <td>0.254222</td>\n",
       "      <td>0.299051</td>\n",
       "    </tr>\n",
       "    <tr>\n",
       "      <th>1</th>\n",
       "      <td>0.465778</td>\n",
       "      <td>0.308544</td>\n",
       "    </tr>\n",
       "    <tr>\n",
       "      <th>2</th>\n",
       "      <td>0.126875</td>\n",
       "      <td>0.182363</td>\n",
       "    </tr>\n",
       "    <tr>\n",
       "      <th>3</th>\n",
       "      <td>0.126953</td>\n",
       "      <td>0.139092</td>\n",
       "    </tr>\n",
       "    <tr>\n",
       "      <th>4</th>\n",
       "      <td>0.235556</td>\n",
       "      <td>0.177778</td>\n",
       "    </tr>\n",
       "  </tbody>\n",
       "</table>\n",
       "</div>"
      ],
      "text/plain": [
       "   bb_width_n  bb_height_n\n",
       "0    0.254222     0.299051\n",
       "1    0.465778     0.308544\n",
       "2    0.126875     0.182363\n",
       "3    0.126953     0.139092\n",
       "4    0.235556     0.177778"
      ]
     },
     "execution_count": 20,
     "metadata": {},
     "output_type": "execute_result"
    }
   ],
   "source": [
    "table_for_algo = df[df.columns[len(df.columns)-2:]]\n",
    "table_for_algo.head()"
   ]
  },
  {
   "cell_type": "code",
   "execution_count": 22,
   "metadata": {
    "ExecuteTime": {
     "end_time": "2020-10-17T18:53:10.419629Z",
     "start_time": "2020-10-17T18:53:10.095629Z"
    }
   },
   "outputs": [
    {
     "data": {
      "text/plain": [
       "Text(0, 0.5, 'Bounding Box Height (Norm)')"
      ]
     },
     "execution_count": 22,
     "metadata": {},
     "output_type": "execute_result"
    },
    {
     "data": {
      "image/png": "[encoded data removed]",
      "text/plain": [
       "<Figure size 432x288 with 1 Axes>"
      ]
     },
     "metadata": {},
     "output_type": "display_data"
    }
   ],
   "source": [
    "plt.style.use('ggplot')\n",
    "plt.plot(table_for_algo['bb_width_n'],table_for_algo['bb_height_n'],'.')\n",
    "plt.xlabel('Bounding Box Width (Norm)')\n",
    "plt.ylabel('Bounding Box Height (Norm)')"
   ]
  },
  {
   "cell_type": "markdown",
   "metadata": {},
   "source": [
    "## K Means Clustering to find optimal number of clusters"
   ]
  },
  {
   "cell_type": "code",
   "execution_count": 23,
   "metadata": {
    "ExecuteTime": {
     "end_time": "2020-10-17T18:53:34.886524Z",
     "start_time": "2020-10-17T18:53:32.105602Z"
    }
   },
   "outputs": [
    {
     "data": {
      "image/png": "[encoded data removed]",
      "text/plain": [
       "<Figure size 432x288 with 1 Axes>"
      ]
     },
     "metadata": {},
     "output_type": "display_data"
    }
   ],
   "source": [
    "from sklearn.cluster import KMeans\n",
    "from sklearn import metrics\n",
    "from scipy.spatial.distance import cdist\n",
    "import numpy as np\n",
    "import matplotlib.pyplot as plt\n",
    "\n",
    "# k means determine k\n",
    "distortions = []\n",
    "K = range(1,10)\n",
    "for k in K:\n",
    "    kmeanModel = KMeans(n_clusters=k).fit(table_for_algo)\n",
    "    kmeanModel.fit(table_for_algo)\n",
    "    distortions.append(sum(np.min(cdist(table_for_algo, kmeanModel.cluster_centers_, 'euclidean'), axis=1)) /table_for_algo.shape[0])\n",
    "\n",
    "# Plot the elbow\n",
    "plt.style.use('ggplot')\n",
    "plt.plot(K, distortions, '.-')\n",
    "plt.xlabel('k')\n",
    "plt.ylabel('Distortion')\n",
    "plt.title('The Elbow Method showing the optimal k')\n",
    "plt.show()"
   ]
  },
  {
   "cell_type": "markdown",
   "metadata": {},
   "source": [
    "## Calculate IoU"
   ]
  },
  {
   "cell_type": "code",
   "execution_count": 25,
   "metadata": {},
   "outputs": [],
   "source": [
    "height = list(table_for_algo['bb_height_n'])\n",
    "width  = list(table_for_algo['bb_width_n'])\n",
    "ks = range(1,10)\n",
    "meaniou = []\n",
    "for k in ks:\n",
    "    cl = KMeans(n_clusters=k)\n",
    "    cl.fit(table_for_algo)\n",
    "    cx = []\n",
    "    cy = []\n",
    "    mapcx  = {}\n",
    "    mapcy = {}\n",
    "    iou = []\n",
    "    for i in range(259):\n",
    "        l = cl.labels_[i]\n",
    "        cx.append(cl.cluster_centers_[l][0])\n",
    "        cy.append(cl.cluster_centers_[l][1])\n",
    "        iou.append(min(width[i] ,cx[i])* min(height[i] , cy[i])/(height[i]*width[i]+ cx[i]*cy[i]- min(width[i] , cx[i])* min(height[i] ,cy[i])))\n",
    "    meaniou.append(sum(iou)/50)"
   ]
  },
  {
   "cell_type": "code",
   "execution_count": 28,
   "metadata": {
    "ExecuteTime": {
     "end_time": "2020-10-17T20:17:57.689911Z",
     "start_time": "2020-10-17T20:17:57.501912Z"
    }
   },
   "outputs": [
    {
     "data": {
      "image/png": "[encoded data removed]",
      "text/plain": [
       "<Figure size 432x288 with 1 Axes>"
      ]
     },
     "metadata": {},
     "output_type": "display_data"
    }
   ],
   "source": [
    "plt.style.use('ggplot')\n",
    "plt.plot(range(1,10),meaniou,'.-',label = \"iou\")\n",
    "plt.plot([3,3],[2,4],label = \"k = 3\")\n",
    "plt.plot([4,4],[2,4],label = \"k = 4\")\n",
    "plt.plot([5,5],[2,4],label = \"k = 5\")\n",
    "plt.xlabel('centroids')\n",
    "plt.ylabel('Mean Iou')\n",
    "plt.title('The Mean IOU for each k')\n",
    "plt.legend()\n",
    "plt.show()"
   ]
  },
  {
   "cell_type": "code",
   "execution_count": 46,
   "metadata": {
    "ExecuteTime": {
     "end_time": "2020-10-17T20:18:10.215450Z",
     "start_time": "2020-10-17T20:18:10.209471Z"
    }
   },
   "outputs": [
    {
     "data": {
      "text/plain": [
       "(3.328210463033767, 3.3547304254973613, 3.5316585045302924, 3.545170488532233)"
      ]
     },
     "execution_count": 46,
     "metadata": {},
     "output_type": "execute_result"
    }
   ],
   "source": [
    "meaniou[3],meaniou[4],meaniou[5],meaniou[6]"
   ]
  },
  {
   "cell_type": "markdown",
   "metadata": {},
   "source": [
    "## K Means with K = 3"
   ]
  },
  {
   "cell_type": "code",
   "execution_count": 47,
   "metadata": {
    "ExecuteTime": {
     "end_time": "2020-10-17T20:18:13.183411Z",
     "start_time": "2020-10-17T20:18:12.979373Z"
    }
   },
   "outputs": [
    {
     "data": {
      "image/png": "[encoded data removed]",
      "text/plain": [
       "<Figure size 432x288 with 1 Axes>"
      ]
     },
     "metadata": {
      "needs_background": "light"
     },
     "output_type": "display_data"
    }
   ],
   "source": [
    "array_points = np.array(table_for_algo)\n",
    "cl3 = KMeans(3)\n",
    "cl3.fit(array_points)\n",
    "\n",
    "plt.style.use('ggplot')\n",
    "plt.scatter(cl3.cluster_centers_[:,0] ,cl3.cluster_centers_[:,1], color='red',s = 100,marker = 'o', label='centroids')\n",
    "plt.scatter(list(table_for_algo['bb_width_n']), list(table_for_algo['bb_height_n']), marker=\"v\",c=list(cl3.labels_.astype(float)), label = \"data\")\n",
    "plt.legend()\n",
    "plt.xlabel('bb_width_n')\n",
    "plt.ylabel('bb_height_n')\n",
    "plt.title('K Means for k = 3')\n",
    "plt.legend()\n",
    "plt.show()"
   ]
  },
  {
   "cell_type": "markdown",
   "metadata": {},
   "source": [
    "## K Means with K = 4"
   ]
  },
  {
   "cell_type": "code",
   "execution_count": 48,
   "metadata": {
    "ExecuteTime": {
     "end_time": "2020-10-17T20:18:22.270614Z",
     "start_time": "2020-10-17T20:18:22.066584Z"
    }
   },
   "outputs": [
    {
     "data": {
      "image/png": "[encoded data removed]",
      "text/plain": [
       "<Figure size 432x288 with 1 Axes>"
      ]
     },
     "metadata": {
      "needs_background": "light"
     },
     "output_type": "display_data"
    }
   ],
   "source": [
    "# array_points = np.array(table_for_algo)\n",
    "cl3 = KMeans(4)\n",
    "cl3.fit(array_points)\n",
    "\n",
    "plt.style.use('ggplot')\n",
    "plt.scatter(cl3.cluster_centers_[:,0] ,cl3.cluster_centers_[:,1], color='red',s = 100,marker = 'o', label='centroids')\n",
    "plt.scatter(list(table_for_algo['bb_width_n']), list(table_for_algo['bb_height_n']), marker=\"v\",c=list(cl3.labels_.astype(float)), label = \"data\")\n",
    "plt.legend()\n",
    "plt.xlabel('bb_width_n')\n",
    "plt.ylabel('bb_height_n')\n",
    "plt.title('K Means for k = 4')\n",
    "plt.legend()\n",
    "plt.show()"
   ]
  },
  {
   "cell_type": "markdown",
   "metadata": {},
   "source": [
    "## K Means with K = 5"
   ]
  },
  {
   "cell_type": "code",
   "execution_count": 49,
   "metadata": {
    "ExecuteTime": {
     "end_time": "2020-10-17T20:18:23.664610Z",
     "start_time": "2020-10-17T20:18:23.104633Z"
    }
   },
   "outputs": [
    {
     "data": {
      "image/png": "[encoded data removed]",
      "text/plain": [
       "<Figure size 432x288 with 1 Axes>"
      ]
     },
     "metadata": {
      "needs_background": "light"
     },
     "output_type": "display_data"
    }
   ],
   "source": [
    "# array_points = np.array(table_for_algo)\n",
    "cl3 = KMeans(5)\n",
    "cl3.fit(array_points)\n",
    "\n",
    "plt.style.use('ggplot')\n",
    "plt.scatter(cl3.cluster_centers_[:,0] ,cl3.cluster_centers_[:,1], color='red',s = 100,marker = 'o', label='centroids')\n",
    "plt.scatter(list(table_for_algo['bb_width_n']), list(table_for_algo['bb_height_n']), marker=\"v\",c=list(cl3.labels_.astype(float)), label = \"data\")\n",
    "plt.legend()\n",
    "plt.xlabel('bb_width_n')\n",
    "plt.ylabel('bb_height_n')\n",
    "plt.title('K Means for k = 5')\n",
    "plt.legend()\n",
    "plt.show()"
   ]
  }
 ],
 "metadata": {
  "kernelspec": {
   "display_name": "Python 3",
   "language": "python",
   "name": "python3"
  },
  "language_info": {
   "codemirror_mode": {
    "name": "ipython",
    "version": 3
   },
   "file_extension": ".py",
   "mimetype": "text/x-python",
   "name": "python",
   "nbconvert_exporter": "python",
   "pygments_lexer": "ipython3",
   "version": "3.7.7"
  },
  "toc": {
   "base_numbering": 1,
   "nav_menu": {},
   "number_sections": true,
   "sideBar": true,
   "skip_h1_title": false,
   "title_cell": "Table of Contents",
   "title_sidebar": "Contents",
   "toc_cell": false,
   "toc_position": {},
   "toc_section_display": true,
   "toc_window_display": false
  },
  "varInspector": {
   "cols": {
    "lenName": 16,
    "lenType": 16,
    "lenVar": 40
   },
   "kernels_config": {
    "python": {
     "delete_cmd_postfix": "",
     "delete_cmd_prefix": "del ",
     "library": "var_list.py",
     "varRefreshCmd": "print(var_dic_list())"
    },
    "r": {
     "delete_cmd_postfix": ") ",
     "delete_cmd_prefix": "rm(",
     "library": "var_list.r",
     "varRefreshCmd": "cat(var_dic_list()) "
    }
   },
   "types_to_exclude": [
    "module",
    "function",
    "builtin_function_or_method",
    "instance",
    "_Feature"
   ],
   "window_display": false
  }
 },
 "nbformat": 4,
 "nbformat_minor": 4
}
