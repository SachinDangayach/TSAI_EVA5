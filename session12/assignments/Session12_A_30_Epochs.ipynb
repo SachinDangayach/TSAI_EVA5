{
  "nbformat": 4,
  "nbformat_minor": 0,
  "metadata": {
    "kernelspec": {
      "display_name": "Python 3",
      "language": "python",
      "name": "python3"
    },
    "language_info": {
      "codemirror_mode": {
        "name": "ipython",
        "version": 3
      },
      "file_extension": ".py",
      "mimetype": "text/x-python",
      "name": "python",
      "nbconvert_exporter": "python",
      "pygments_lexer": "ipython3",
      "version": "3.7.7"
    },
    "colab": {
      "name": "Session12_A.ipynb",
      "provenance": [],
      "collapsed_sections": []
    },
    "accelerator": "GPU",
    "widgets": {
      "application/vnd.jupyter.widget-state+json": {
        "30e09d7c4ba948caa2266826e4b3ed8e": {
          "model_module": "@jupyter-widgets/controls",
          "model_name": "HBoxModel",
          "state": {
            "_view_name": "HBoxView",
            "_dom_classes": [],
            "_model_name": "HBoxModel",
            "_view_module": "@jupyter-widgets/controls",
            "_model_module_version": "1.5.0",
            "_view_count": null,
            "_view_module_version": "1.5.0",
            "box_style": "",
            "layout": "IPY_MODEL_71f5749779ad49e3a37e006673ed0fbc",
            "_model_module": "@jupyter-widgets/controls",
            "children": [
              "IPY_MODEL_92ea6853a197477088fd42b513c52681",
              "IPY_MODEL_592fde5ba6d843678f88a76ef3b3d270"
            ]
          }
        },
        "71f5749779ad49e3a37e006673ed0fbc": {
          "model_module": "@jupyter-widgets/base",
          "model_name": "LayoutModel",
          "state": {
            "_view_name": "LayoutView",
            "grid_template_rows": null,
            "right": null,
            "justify_content": null,
            "_view_module": "@jupyter-widgets/base",
            "overflow": null,
            "_model_module_version": "1.2.0",
            "_view_count": null,
            "flex_flow": null,
            "width": null,
            "min_width": null,
            "border": null,
            "align_items": null,
            "bottom": null,
            "_model_module": "@jupyter-widgets/base",
            "top": null,
            "grid_column": null,
            "overflow_y": null,
            "overflow_x": null,
            "grid_auto_flow": null,
            "grid_area": null,
            "grid_template_columns": null,
            "flex": null,
            "_model_name": "LayoutModel",
            "justify_items": null,
            "grid_row": null,
            "max_height": null,
            "align_content": null,
            "visibility": null,
            "align_self": null,
            "height": null,
            "min_height": null,
            "padding": null,
            "grid_auto_rows": null,
            "grid_gap": null,
            "max_width": null,
            "order": null,
            "_view_module_version": "1.2.0",
            "grid_template_areas": null,
            "object_position": null,
            "object_fit": null,
            "grid_auto_columns": null,
            "margin": null,
            "display": null,
            "left": null
          }
        },
        "92ea6853a197477088fd42b513c52681": {
          "model_module": "@jupyter-widgets/controls",
          "model_name": "FloatProgressModel",
          "state": {
            "_view_name": "ProgressView",
            "style": "IPY_MODEL_b4b6f6803a9e490c847352eabcd134c8",
            "_dom_classes": [],
            "description": "Loading Train Folder: 100%",
            "_model_name": "FloatProgressModel",
            "bar_style": "success",
            "max": 200,
            "_view_module": "@jupyter-widgets/controls",
            "_model_module_version": "1.5.0",
            "value": 200,
            "_view_count": null,
            "_view_module_version": "1.5.0",
            "orientation": "horizontal",
            "min": 0,
            "description_tooltip": null,
            "_model_module": "@jupyter-widgets/controls",
            "layout": "IPY_MODEL_a1d6efc25ac544b0bf0799c20417fd77"
          }
        },
        "592fde5ba6d843678f88a76ef3b3d270": {
          "model_module": "@jupyter-widgets/controls",
          "model_name": "HTMLModel",
          "state": {
            "_view_name": "HTMLView",
            "style": "IPY_MODEL_e3c7a2315a1a487f89911151b489000a",
            "_dom_classes": [],
            "description": "",
            "_model_name": "HTMLModel",
            "placeholder": "​",
            "_view_module": "@jupyter-widgets/controls",
            "_model_module_version": "1.5.0",
            "value": " 200/200 [00:37&lt;00:00,  5.27it/s]",
            "_view_count": null,
            "_view_module_version": "1.5.0",
            "description_tooltip": null,
            "_model_module": "@jupyter-widgets/controls",
            "layout": "IPY_MODEL_9f25a943684043088838402edf68ce2e"
          }
        },
        "b4b6f6803a9e490c847352eabcd134c8": {
          "model_module": "@jupyter-widgets/controls",
          "model_name": "ProgressStyleModel",
          "state": {
            "_view_name": "StyleView",
            "_model_name": "ProgressStyleModel",
            "description_width": "initial",
            "_view_module": "@jupyter-widgets/base",
            "_model_module_version": "1.5.0",
            "_view_count": null,
            "_view_module_version": "1.2.0",
            "bar_color": null,
            "_model_module": "@jupyter-widgets/controls"
          }
        },
        "a1d6efc25ac544b0bf0799c20417fd77": {
          "model_module": "@jupyter-widgets/base",
          "model_name": "LayoutModel",
          "state": {
            "_view_name": "LayoutView",
            "grid_template_rows": null,
            "right": null,
            "justify_content": null,
            "_view_module": "@jupyter-widgets/base",
            "overflow": null,
            "_model_module_version": "1.2.0",
            "_view_count": null,
            "flex_flow": null,
            "width": null,
            "min_width": null,
            "border": null,
            "align_items": null,
            "bottom": null,
            "_model_module": "@jupyter-widgets/base",
            "top": null,
            "grid_column": null,
            "overflow_y": null,
            "overflow_x": null,
            "grid_auto_flow": null,
            "grid_area": null,
            "grid_template_columns": null,
            "flex": null,
            "_model_name": "LayoutModel",
            "justify_items": null,
            "grid_row": null,
            "max_height": null,
            "align_content": null,
            "visibility": null,
            "align_self": null,
            "height": null,
            "min_height": null,
            "padding": null,
            "grid_auto_rows": null,
            "grid_gap": null,
            "max_width": null,
            "order": null,
            "_view_module_version": "1.2.0",
            "grid_template_areas": null,
            "object_position": null,
            "object_fit": null,
            "grid_auto_columns": null,
            "margin": null,
            "display": null,
            "left": null
          }
        },
        "e3c7a2315a1a487f89911151b489000a": {
          "model_module": "@jupyter-widgets/controls",
          "model_name": "DescriptionStyleModel",
          "state": {
            "_view_name": "StyleView",
            "_model_name": "DescriptionStyleModel",
            "description_width": "",
            "_view_module": "@jupyter-widgets/base",
            "_model_module_version": "1.5.0",
            "_view_count": null,
            "_view_module_version": "1.2.0",
            "_model_module": "@jupyter-widgets/controls"
          }
        },
        "9f25a943684043088838402edf68ce2e": {
          "model_module": "@jupyter-widgets/base",
          "model_name": "LayoutModel",
          "state": {
            "_view_name": "LayoutView",
            "grid_template_rows": null,
            "right": null,
            "justify_content": null,
            "_view_module": "@jupyter-widgets/base",
            "overflow": null,
            "_model_module_version": "1.2.0",
            "_view_count": null,
            "flex_flow": null,
            "width": null,
            "min_width": null,
            "border": null,
            "align_items": null,
            "bottom": null,
            "_model_module": "@jupyter-widgets/base",
            "top": null,
            "grid_column": null,
            "overflow_y": null,
            "overflow_x": null,
            "grid_auto_flow": null,
            "grid_area": null,
            "grid_template_columns": null,
            "flex": null,
            "_model_name": "LayoutModel",
            "justify_items": null,
            "grid_row": null,
            "max_height": null,
            "align_content": null,
            "visibility": null,
            "align_self": null,
            "height": null,
            "min_height": null,
            "padding": null,
            "grid_auto_rows": null,
            "grid_gap": null,
            "max_width": null,
            "order": null,
            "_view_module_version": "1.2.0",
            "grid_template_areas": null,
            "object_position": null,
            "object_fit": null,
            "grid_auto_columns": null,
            "margin": null,
            "display": null,
            "left": null
          }
        },
        "c7a2f7ceedee4285887086f19873d25b": {
          "model_module": "@jupyter-widgets/controls",
          "model_name": "HBoxModel",
          "state": {
            "_view_name": "HBoxView",
            "_dom_classes": [],
            "_model_name": "HBoxModel",
            "_view_module": "@jupyter-widgets/controls",
            "_model_module_version": "1.5.0",
            "_view_count": null,
            "_view_module_version": "1.5.0",
            "box_style": "",
            "layout": "IPY_MODEL_5a6e86622266457f87bf3657a1802c55",
            "_model_module": "@jupyter-widgets/controls",
            "children": [
              "IPY_MODEL_8c4fe409aa144a158f75cfd2282731a1",
              "IPY_MODEL_b6df45709810495e884a43fbd788e111"
            ]
          }
        },
        "5a6e86622266457f87bf3657a1802c55": {
          "model_module": "@jupyter-widgets/base",
          "model_name": "LayoutModel",
          "state": {
            "_view_name": "LayoutView",
            "grid_template_rows": null,
            "right": null,
            "justify_content": null,
            "_view_module": "@jupyter-widgets/base",
            "overflow": null,
            "_model_module_version": "1.2.0",
            "_view_count": null,
            "flex_flow": null,
            "width": null,
            "min_width": null,
            "border": null,
            "align_items": null,
            "bottom": null,
            "_model_module": "@jupyter-widgets/base",
            "top": null,
            "grid_column": null,
            "overflow_y": null,
            "overflow_x": null,
            "grid_auto_flow": null,
            "grid_area": null,
            "grid_template_columns": null,
            "flex": null,
            "_model_name": "LayoutModel",
            "justify_items": null,
            "grid_row": null,
            "max_height": null,
            "align_content": null,
            "visibility": null,
            "align_self": null,
            "height": null,
            "min_height": null,
            "padding": null,
            "grid_auto_rows": null,
            "grid_gap": null,
            "max_width": null,
            "order": null,
            "_view_module_version": "1.2.0",
            "grid_template_areas": null,
            "object_position": null,
            "object_fit": null,
            "grid_auto_columns": null,
            "margin": null,
            "display": null,
            "left": null
          }
        },
        "8c4fe409aa144a158f75cfd2282731a1": {
          "model_module": "@jupyter-widgets/controls",
          "model_name": "FloatProgressModel",
          "state": {
            "_view_name": "ProgressView",
            "style": "IPY_MODEL_fb9bc87d20e340b7a60759ad40449e25",
            "_dom_classes": [],
            "description": "Loading Test Folder: 100%",
            "_model_name": "FloatProgressModel",
            "bar_style": "success",
            "max": 10000,
            "_view_module": "@jupyter-widgets/controls",
            "_model_module_version": "1.5.0",
            "value": 10000,
            "_view_count": null,
            "_view_module_version": "1.5.0",
            "orientation": "horizontal",
            "min": 0,
            "description_tooltip": null,
            "_model_module": "@jupyter-widgets/controls",
            "layout": "IPY_MODEL_fec121e8b6e945e797bd7db668d3fa44"
          }
        },
        "b6df45709810495e884a43fbd788e111": {
          "model_module": "@jupyter-widgets/controls",
          "model_name": "HTMLModel",
          "state": {
            "_view_name": "HTMLView",
            "style": "IPY_MODEL_04f31a1a543e44769deb5408b4cd8384",
            "_dom_classes": [],
            "description": "",
            "_model_name": "HTMLModel",
            "placeholder": "​",
            "_view_module": "@jupyter-widgets/controls",
            "_model_module_version": "1.5.0",
            "value": " 10000/10000 [00:04&lt;00:00, 2016.69it/s]",
            "_view_count": null,
            "_view_module_version": "1.5.0",
            "description_tooltip": null,
            "_model_module": "@jupyter-widgets/controls",
            "layout": "IPY_MODEL_cf52107a00704adca64f723936f8dc51"
          }
        },
        "fb9bc87d20e340b7a60759ad40449e25": {
          "model_module": "@jupyter-widgets/controls",
          "model_name": "ProgressStyleModel",
          "state": {
            "_view_name": "StyleView",
            "_model_name": "ProgressStyleModel",
            "description_width": "initial",
            "_view_module": "@jupyter-widgets/base",
            "_model_module_version": "1.5.0",
            "_view_count": null,
            "_view_module_version": "1.2.0",
            "bar_color": null,
            "_model_module": "@jupyter-widgets/controls"
          }
        },
        "fec121e8b6e945e797bd7db668d3fa44": {
          "model_module": "@jupyter-widgets/base",
          "model_name": "LayoutModel",
          "state": {
            "_view_name": "LayoutView",
            "grid_template_rows": null,
            "right": null,
            "justify_content": null,
            "_view_module": "@jupyter-widgets/base",
            "overflow": null,
            "_model_module_version": "1.2.0",
            "_view_count": null,
            "flex_flow": null,
            "width": null,
            "min_width": null,
            "border": null,
            "align_items": null,
            "bottom": null,
            "_model_module": "@jupyter-widgets/base",
            "top": null,
            "grid_column": null,
            "overflow_y": null,
            "overflow_x": null,
            "grid_auto_flow": null,
            "grid_area": null,
            "grid_template_columns": null,
            "flex": null,
            "_model_name": "LayoutModel",
            "justify_items": null,
            "grid_row": null,
            "max_height": null,
            "align_content": null,
            "visibility": null,
            "align_self": null,
            "height": null,
            "min_height": null,
            "padding": null,
            "grid_auto_rows": null,
            "grid_gap": null,
            "max_width": null,
            "order": null,
            "_view_module_version": "1.2.0",
            "grid_template_areas": null,
            "object_position": null,
            "object_fit": null,
            "grid_auto_columns": null,
            "margin": null,
            "display": null,
            "left": null
          }
        },
        "04f31a1a543e44769deb5408b4cd8384": {
          "model_module": "@jupyter-widgets/controls",
          "model_name": "DescriptionStyleModel",
          "state": {
            "_view_name": "StyleView",
            "_model_name": "DescriptionStyleModel",
            "description_width": "",
            "_view_module": "@jupyter-widgets/base",
            "_model_module_version": "1.5.0",
            "_view_count": null,
            "_view_module_version": "1.2.0",
            "_model_module": "@jupyter-widgets/controls"
          }
        },
        "cf52107a00704adca64f723936f8dc51": {
          "model_module": "@jupyter-widgets/base",
          "model_name": "LayoutModel",
          "state": {
            "_view_name": "LayoutView",
            "grid_template_rows": null,
            "right": null,
            "justify_content": null,
            "_view_module": "@jupyter-widgets/base",
            "overflow": null,
            "_model_module_version": "1.2.0",
            "_view_count": null,
            "flex_flow": null,
            "width": null,
            "min_width": null,
            "border": null,
            "align_items": null,
            "bottom": null,
            "_model_module": "@jupyter-widgets/base",
            "top": null,
            "grid_column": null,
            "overflow_y": null,
            "overflow_x": null,
            "grid_auto_flow": null,
            "grid_area": null,
            "grid_template_columns": null,
            "flex": null,
            "_model_name": "LayoutModel",
            "justify_items": null,
            "grid_row": null,
            "max_height": null,
            "align_content": null,
            "visibility": null,
            "align_self": null,
            "height": null,
            "min_height": null,
            "padding": null,
            "grid_auto_rows": null,
            "grid_gap": null,
            "max_width": null,
            "order": null,
            "_view_module_version": "1.2.0",
            "grid_template_areas": null,
            "object_position": null,
            "object_fit": null,
            "grid_auto_columns": null,
            "margin": null,
            "display": null,
            "left": null
          }
        }
      }
    }
  },
  "cells": [
    {
      "cell_type": "markdown",
      "metadata": {
        "id": "YyYoHGddEmuV"
      },
      "source": [
        "## Assignment A: TinyImagenet training\n",
        "\n",
        "**A. Target**\n",
        "\n",
        "1. Download this TINY IMAGENET dataset. \n",
        "2. Train ResNet18 on this dataset (70/30 split) for 50 Epochs. Target 50%+ Validation Accuracy. \n",
        "3. Submit Results. Of course, you are using your own package for everything. \n",
        "\n",
        "**B. Results**\n",
        "\n",
        "1. Parameters: 11,271,432\n",
        "\n",
        "2. Best Training Accuracy in 27 epochs: 68.19 % , in 30 epochs 74.99 %\n",
        "\n",
        "3. Best Test Accuracy in 27 epochs: 54.33 %, in 30 epochs 57.49%\n",
        "\n",
        "\n",
        "**C. Analysis**\n",
        "\n",
        "\n",
        "I have used one cycle learninig with max learning rate of 0.02 and minimum of 0.002. Max LR is reached in 11 epochs. I have used augementations (horizontal flip, resizing and random cropping, rotation and cutout with normalization) to regularize the training. Model could acheive required accuracy of above 50% in 24 epochs"
      ]
    },
    {
      "cell_type": "code",
      "metadata": {
        "id": "W8gYAQPu3_Yf",
        "outputId": "7b8ab1de-17d0-4fa1-d4ec-e9dd46f034e7",
        "colab": {
          "base_uri": "https://localhost:8080/",
          "height": 34
        }
      },
      "source": [
        "from google.colab import drive\n",
        "drive.mount('/content/gdrive',force_remount=True)\n",
        "%reload_ext autoreload\n",
        "%autoreload 2"
      ],
      "execution_count": 1,
      "outputs": [
        {
          "output_type": "stream",
          "text": [
            "Mounted at /content/gdrive\n"
          ],
          "name": "stdout"
        }
      ]
    },
    {
      "cell_type": "code",
      "metadata": {
        "id": "nrU3pkZM4KNn"
      },
      "source": [
        "import sys\n",
        "folder = '/content/gdrive/My Drive/EVA5'\n",
        "sys.path.append(folder)\n",
        "folder = \"/content/gdrive/My Drive/EVA5/Models\"\n",
        "sys.path.append(folder)"
      ],
      "execution_count": 2,
      "outputs": []
    },
    {
      "cell_type": "code",
      "metadata": {
        "id": "Wkpl2nT4EmuX"
      },
      "source": [
        "import torch\n",
        "import torch.nn as nn\n",
        "import torch.optim as optim\n",
        "\n",
        "from torchsummary import summary\n",
        "from torch.optim.lr_scheduler import OneCycleLR\n",
        "\n",
        "import albumentations as A\n",
        "from collections import Sequence\n",
        "import numpy as np\n",
        "\n",
        "from   torch.utils.data import Dataset\n",
        "import torch.nn.functional as F"
      ],
      "execution_count": 3,
      "outputs": []
    },
    {
      "cell_type": "code",
      "metadata": {
        "id": "xQXBi5Z0ZQm1"
      },
      "source": [
        "rm -r TSAI_EVA5"
      ],
      "execution_count": 4,
      "outputs": []
    },
    {
      "cell_type": "code",
      "metadata": {
        "id": "ONHOfLlgEmuc",
        "outputId": "9853b812-7d4c-4c34-9d8b-4a8bde5e3f67",
        "colab": {
          "base_uri": "https://localhost:8080/",
          "height": 102
        }
      },
      "source": [
        "!git clone https://github.com/SachinDangayach/TSAI_EVA5.git"
      ],
      "execution_count": 5,
      "outputs": [
        {
          "output_type": "stream",
          "text": [
            "Cloning into 'TSAI_EVA5'...\n",
            "remote: Enumerating objects: 579, done.\u001b[K\n",
            "remote: Total 579 (delta 0), reused 0 (delta 0), pack-reused 579\u001b[K\n",
            "Receiving objects: 100% (579/579), 14.39 MiB | 12.74 MiB/s, done.\n",
            "Resolving deltas: 100% (314/314), done.\n"
          ],
          "name": "stdout"
        }
      ]
    },
    {
      "cell_type": "code",
      "metadata": {
        "id": "51gx5BViEmuj"
      },
      "source": [
        "from TSAI_EVA5.session12.dataset import session12_dataset as dataset\n",
        "from TSAI_EVA5.session12.models import session12_resnet18_model as models\n",
        "from TSAI_EVA5.session12.models import session12_train_model as train\n",
        "from TSAI_EVA5.session12.models import session12_test_model as test\n",
        "from TSAI_EVA5.session9.utils import session9_utils as utils\n",
        "from TSAI_EVA5.session11.utils import session11_lr_test as lr_test\n",
        "from TSAI_EVA5.session10.utils import session10_lr_finder as lr_finder\n",
        "from TSAI_EVA5.session9.utils import session9_view_gradcam as grad_cam"
      ],
      "execution_count": 6,
      "outputs": []
    },
    {
      "cell_type": "markdown",
      "metadata": {
        "id": "-lZ5OqcZEmum"
      },
      "source": [
        "# Extract, Load and Transform Data"
      ]
    },
    {
      "cell_type": "code",
      "metadata": {
        "id": "aQtZl-hZGQA5"
      },
      "source": [
        "norm_mean = (0.442,0.442,0.442)\n",
        "norm_std = (0.278, 0.278, 0.278)\n",
        "album_train_transform,album_test_transform = dataset.get_album_transforms(norm_mean,norm_std)"
      ],
      "execution_count": 7,
      "outputs": []
    },
    {
      "cell_type": "code",
      "metadata": {
        "id": "lLjvhqurGbk3",
        "outputId": "a10aa9ce-7059-4750-8165-b989f7f8a9c6",
        "colab": {
          "base_uri": "https://localhost:8080/",
          "height": 132,
          "referenced_widgets": [
            "30e09d7c4ba948caa2266826e4b3ed8e",
            "71f5749779ad49e3a37e006673ed0fbc",
            "92ea6853a197477088fd42b513c52681",
            "592fde5ba6d843678f88a76ef3b3d270",
            "b4b6f6803a9e490c847352eabcd134c8",
            "a1d6efc25ac544b0bf0799c20417fd77",
            "e3c7a2315a1a487f89911151b489000a",
            "9f25a943684043088838402edf68ce2e",
            "c7a2f7ceedee4285887086f19873d25b",
            "5a6e86622266457f87bf3657a1802c55",
            "8c4fe409aa144a158f75cfd2282731a1",
            "b6df45709810495e884a43fbd788e111",
            "fb9bc87d20e340b7a60759ad40449e25",
            "fec121e8b6e945e797bd7db668d3fa44",
            "04f31a1a543e44769deb5408b4cd8384",
            "cf52107a00704adca64f723936f8dc51"
          ]
        }
      },
      "source": [
        "train_dataset , test_dataset,classes = dataset.TinyImageNetDataSet(train_split = 70,train_transforms = album_train_transform,test_transforms = album_test_transform)"
      ],
      "execution_count": 8,
      "outputs": [
        {
          "output_type": "stream",
          "text": [
            "Images already downloaded...\n"
          ],
          "name": "stdout"
        },
        {
          "output_type": "display_data",
          "data": {
            "application/vnd.jupyter.widget-view+json": {
              "model_id": "30e09d7c4ba948caa2266826e4b3ed8e",
              "version_minor": 0,
              "version_major": 2
            },
            "text/plain": [
              "HBox(children=(FloatProgress(value=0.0, description='Loading Train Folder', max=200.0, style=ProgressStyle(des…"
            ]
          },
          "metadata": {
            "tags": []
          }
        },
        {
          "output_type": "stream",
          "text": [
            "\n"
          ],
          "name": "stdout"
        },
        {
          "output_type": "display_data",
          "data": {
            "application/vnd.jupyter.widget-view+json": {
              "model_id": "c7a2f7ceedee4285887086f19873d25b",
              "version_minor": 0,
              "version_major": 2
            },
            "text/plain": [
              "HBox(children=(FloatProgress(value=0.0, description='Loading Test Folder', max=10000.0, style=ProgressStyle(de…"
            ]
          },
          "metadata": {
            "tags": []
          }
        },
        {
          "output_type": "stream",
          "text": [
            "\n"
          ],
          "name": "stdout"
        }
      ]
    },
    {
      "cell_type": "code",
      "metadata": {
        "id": "BbzawtoTQgG6",
        "outputId": "31321a6f-30d4-47b6-8fc0-4be9234b0fa0",
        "colab": {
          "base_uri": "https://localhost:8080/",
          "height": 34
        }
      },
      "source": [
        "# Dataloader Arguments & Test/Train Dataloaders - Load part of ETL\n",
        "train_loader,test_loader = dataset.get_dataloaders(train_dataset,test_dataset,256)"
      ],
      "execution_count": 9,
      "outputs": [
        {
          "output_type": "stream",
          "text": [
            "CUDA Available? True\n"
          ],
          "name": "stdout"
        }
      ]
    },
    {
      "cell_type": "code",
      "metadata": {
        "id": "GlBy5G_rTa-3",
        "outputId": "50a31f8d-e886-46f9-b12b-25396838bbd2",
        "colab": {
          "base_uri": "https://localhost:8080/",
          "height": 277
        }
      },
      "source": [
        "# Explore sample images\n",
        "utils.show_sample_images(train_loader, classes, .5, .25, num_of_images = 10)"
      ],
      "execution_count": 10,
      "outputs": [
        {
          "output_type": "stream",
          "text": [
            "Clipping input data to the valid range for imshow with RGB data ([0..1] for floats or [0..255] for integers).\n",
            "Clipping input data to the valid range for imshow with RGB data ([0..1] for floats or [0..255] for integers).\n"
          ],
          "name": "stderr"
        },
        {
          "output_type": "stream",
          "text": [
            "Displaying 10 images\n"
          ],
          "name": "stdout"
        },
        {
          "output_type": "stream",
          "text": [
            "Clipping input data to the valid range for imshow with RGB data ([0..1] for floats or [0..255] for integers).\n",
            "Clipping input data to the valid range for imshow with RGB data ([0..1] for floats or [0..255] for integers).\n",
            "Clipping input data to the valid range for imshow with RGB data ([0..1] for floats or [0..255] for integers).\n",
            "Clipping input data to the valid range for imshow with RGB data ([0..1] for floats or [0..255] for integers).\n",
            "Clipping input data to the valid range for imshow with RGB data ([0..1] for floats or [0..255] for integers).\n"
          ],
          "name": "stderr"
        },
        {
          "output_type": "display_data",
          "data": {
            "image/png": "[encoded data removed]",
            "text/plain": [
              "<Figure size 1440x1440 with 10 Axes>"
            ]
          },
          "metadata": {
            "tags": [],
            "needs_background": "light"
          }
        }
      ]
    },
    {
      "cell_type": "markdown",
      "metadata": {
        "id": "ybWcWKofVu-x"
      },
      "source": [
        "## Import Model and show model summary"
      ]
    },
    {
      "cell_type": "code",
      "metadata": {
        "id": "zyOeLRAWTwyq",
        "outputId": "80f253cd-64c7-4b36-b7c5-a363aa223b85",
        "colab": {
          "base_uri": "https://localhost:8080/",
          "height": 1000
        }
      },
      "source": [
        "# Model summary\n",
        "use_cuda = torch.cuda.is_available()\n",
        "device = torch.device(\"cuda\" if use_cuda else \"cpu\")\n",
        "print(device)\n",
        "model = models.ResNet18(num_classes=200).to(device)\n",
        "summary(model, input_size=(3, 64, 64))"
      ],
      "execution_count": 11,
      "outputs": [
        {
          "output_type": "stream",
          "text": [
            "cuda\n",
            "----------------------------------------------------------------\n",
            "        Layer (type)               Output Shape         Param #\n",
            "================================================================\n",
            "            Conv2d-1           [-1, 64, 64, 64]           1,728\n",
            "       BatchNorm2d-2           [-1, 64, 64, 64]             128\n",
            "            Conv2d-3           [-1, 64, 64, 64]          36,864\n",
            "       BatchNorm2d-4           [-1, 64, 64, 64]             128\n",
            "            Conv2d-5           [-1, 64, 64, 64]          36,864\n",
            "       BatchNorm2d-6           [-1, 64, 64, 64]             128\n",
            "        BasicBlock-7           [-1, 64, 64, 64]               0\n",
            "            Conv2d-8           [-1, 64, 64, 64]          36,864\n",
            "       BatchNorm2d-9           [-1, 64, 64, 64]             128\n",
            "           Conv2d-10           [-1, 64, 64, 64]          36,864\n",
            "      BatchNorm2d-11           [-1, 64, 64, 64]             128\n",
            "       BasicBlock-12           [-1, 64, 64, 64]               0\n",
            "           Conv2d-13          [-1, 128, 32, 32]          73,728\n",
            "      BatchNorm2d-14          [-1, 128, 32, 32]             256\n",
            "           Conv2d-15          [-1, 128, 32, 32]         147,456\n",
            "      BatchNorm2d-16          [-1, 128, 32, 32]             256\n",
            "           Conv2d-17          [-1, 128, 32, 32]           8,192\n",
            "      BatchNorm2d-18          [-1, 128, 32, 32]             256\n",
            "       BasicBlock-19          [-1, 128, 32, 32]               0\n",
            "           Conv2d-20          [-1, 128, 32, 32]         147,456\n",
            "      BatchNorm2d-21          [-1, 128, 32, 32]             256\n",
            "           Conv2d-22          [-1, 128, 32, 32]         147,456\n",
            "      BatchNorm2d-23          [-1, 128, 32, 32]             256\n",
            "       BasicBlock-24          [-1, 128, 32, 32]               0\n",
            "           Conv2d-25          [-1, 256, 16, 16]         294,912\n",
            "      BatchNorm2d-26          [-1, 256, 16, 16]             512\n",
            "           Conv2d-27          [-1, 256, 16, 16]         589,824\n",
            "      BatchNorm2d-28          [-1, 256, 16, 16]             512\n",
            "           Conv2d-29          [-1, 256, 16, 16]          32,768\n",
            "      BatchNorm2d-30          [-1, 256, 16, 16]             512\n",
            "       BasicBlock-31          [-1, 256, 16, 16]               0\n",
            "           Conv2d-32          [-1, 256, 16, 16]         589,824\n",
            "      BatchNorm2d-33          [-1, 256, 16, 16]             512\n",
            "           Conv2d-34          [-1, 256, 16, 16]         589,824\n",
            "      BatchNorm2d-35          [-1, 256, 16, 16]             512\n",
            "       BasicBlock-36          [-1, 256, 16, 16]               0\n",
            "           Conv2d-37            [-1, 512, 8, 8]       1,179,648\n",
            "      BatchNorm2d-38            [-1, 512, 8, 8]           1,024\n",
            "           Conv2d-39            [-1, 512, 8, 8]       2,359,296\n",
            "      BatchNorm2d-40            [-1, 512, 8, 8]           1,024\n",
            "           Conv2d-41            [-1, 512, 8, 8]         131,072\n",
            "      BatchNorm2d-42            [-1, 512, 8, 8]           1,024\n",
            "       BasicBlock-43            [-1, 512, 8, 8]               0\n",
            "           Conv2d-44            [-1, 512, 8, 8]       2,359,296\n",
            "      BatchNorm2d-45            [-1, 512, 8, 8]           1,024\n",
            "           Conv2d-46            [-1, 512, 8, 8]       2,359,296\n",
            "      BatchNorm2d-47            [-1, 512, 8, 8]           1,024\n",
            "       BasicBlock-48            [-1, 512, 8, 8]               0\n",
            "           Linear-49                  [-1, 200]         102,600\n",
            "================================================================\n",
            "Total params: 11,271,432\n",
            "Trainable params: 11,271,432\n",
            "Non-trainable params: 0\n",
            "----------------------------------------------------------------\n",
            "Input size (MB): 0.05\n",
            "Forward/backward pass size (MB): 45.00\n",
            "Params size (MB): 43.00\n",
            "Estimated Total Size (MB): 88.05\n",
            "----------------------------------------------------------------\n"
          ],
          "name": "stdout"
        }
      ]
    },
    {
      "cell_type": "markdown",
      "metadata": {
        "id": "qUc2C-09a6KQ"
      },
      "source": [
        "# Set Optimiser, Scheduler, Criterion"
      ]
    },
    {
      "cell_type": "code",
      "metadata": {
        "id": "DJ_wS6Hka5L-"
      },
      "source": [
        "optimizer = optim.SGD(model.parameters(), lr=0.01,momentum=0.9,weight_decay = 0.0001,nesterov = True ) \n",
        "criterion = nn.CrossEntropyLoss()\n",
        "scheduler = OneCycleLR(optimizer, max_lr = 0.02, total_steps=None, epochs=30, steps_per_epoch=len(train_loader), pct_start=1/3, anneal_strategy='linear', cycle_momentum=True, base_momentum=0.85, max_momentum=0.95, div_factor=10.0,final_div_factor =10)"
      ],
      "execution_count": 12,
      "outputs": []
    },
    {
      "cell_type": "markdown",
      "metadata": {
        "id": "vydAFoqDbi69"
      },
      "source": [
        "## Train and Test Model"
      ]
    },
    {
      "cell_type": "code",
      "metadata": {
        "id": "6fDW2V1VbjYL",
        "outputId": "63a7cdca-0830-4fb3-c43b-b8d94d150d49",
        "colab": {
          "base_uri": "https://localhost:8080/",
          "height": 1000
        }
      },
      "source": [
        "train_acc = []\n",
        "train_loss = []\n",
        "test_acc = []\n",
        "test_loss = []\n",
        "LR = []\n",
        "best_acc = 0\n",
        "EPOCHS = 30\n",
        "\n",
        "for epoch in range(EPOCHS):\n",
        "     print(\"EPOCH:\", epoch+1,'LR:',optimizer.param_groups[0]['lr'])\n",
        "     LR.append(optimizer.param_groups[0]['lr'])\n",
        "     train.train(model, device, train_loader, criterion, optimizer, epoch, train_loss, train_acc, scheduler)\n",
        "     test.test(model, device, test_loader, test_loss, test_acc)\n",
        "\n",
        "     if(test_acc[-1]>best_acc):\n",
        "       print(\"accuracy increased, Saving model....\")\n",
        "       best_acc = test_acc[-1]\n",
        "       torch.save({\n",
        "            'epoch': epoch,\n",
        "            'model_state_dict': model.state_dict(),\n",
        "            'optimizer_state_dict': optimizer.state_dict(),\n",
        "            'loss': test_loss[-1],\n",
        "            }, \"/content/gdrive/My Drive/EVA5/bestmodel_s12.pt\")"
      ],
      "execution_count": 13,
      "outputs": [
        {
          "output_type": "stream",
          "text": [
            "\r  0%|          | 0/301 [00:00<?, ?it/s]"
          ],
          "name": "stderr"
        },
        {
          "output_type": "stream",
          "text": [
            "EPOCH: 1 LR: 0.002\n"
          ],
          "name": "stdout"
        },
        {
          "output_type": "stream",
          "text": [
            "Loss=4.282223701477051 Batch_id=300 Train Accuracy=5.69: 100%|██████████| 301/301 [08:52<00:00,  1.77s/it]\n"
          ],
          "name": "stderr"
        },
        {
          "output_type": "stream",
          "text": [
            "\n",
            "Test set: Average loss: 4.3027, Test Accuracy: 3221/33000 (9.76%)\n",
            "\n",
            "accuracy increased, Saving model....\n"
          ],
          "name": "stdout"
        },
        {
          "output_type": "stream",
          "text": [
            "\r  0%|          | 0/301 [00:00<?, ?it/s]"
          ],
          "name": "stderr"
        },
        {
          "output_type": "stream",
          "text": [
            "EPOCH: 2 LR: 0.0038005982053838485\n"
          ],
          "name": "stdout"
        },
        {
          "output_type": "stream",
          "text": [
            "Loss=3.8348228931427 Batch_id=300 Train Accuracy=13.29: 100%|██████████| 301/301 [08:50<00:00,  1.76s/it]\n"
          ],
          "name": "stderr"
        },
        {
          "output_type": "stream",
          "text": [
            "\n",
            "Test set: Average loss: 3.8234, Test Accuracy: 5329/33000 (16.15%)\n",
            "\n",
            "accuracy increased, Saving model....\n"
          ],
          "name": "stdout"
        },
        {
          "output_type": "stream",
          "text": [
            "\r  0%|          | 0/301 [00:00<?, ?it/s]"
          ],
          "name": "stderr"
        },
        {
          "output_type": "stream",
          "text": [
            "EPOCH: 3 LR: 0.005601196410767697\n"
          ],
          "name": "stdout"
        },
        {
          "output_type": "stream",
          "text": [
            "Loss=3.6044015884399414 Batch_id=300 Train Accuracy=19.12: 100%|██████████| 301/301 [08:52<00:00,  1.77s/it]\n"
          ],
          "name": "stderr"
        },
        {
          "output_type": "stream",
          "text": [
            "\n",
            "Test set: Average loss: 3.5925, Test Accuracy: 6473/33000 (19.62%)\n",
            "\n",
            "accuracy increased, Saving model....\n"
          ],
          "name": "stdout"
        },
        {
          "output_type": "stream",
          "text": [
            "\r  0%|          | 0/301 [00:00<?, ?it/s]"
          ],
          "name": "stderr"
        },
        {
          "output_type": "stream",
          "text": [
            "EPOCH: 4 LR: 0.007401794616151546\n"
          ],
          "name": "stdout"
        },
        {
          "output_type": "stream",
          "text": [
            "Loss=3.321765184402466 Batch_id=300 Train Accuracy=23.63: 100%|██████████| 301/301 [08:50<00:00,  1.76s/it]\n"
          ],
          "name": "stderr"
        },
        {
          "output_type": "stream",
          "text": [
            "\n",
            "Test set: Average loss: 3.4310, Test Accuracy: 7590/33000 (23.00%)\n",
            "\n",
            "accuracy increased, Saving model....\n"
          ],
          "name": "stdout"
        },
        {
          "output_type": "stream",
          "text": [
            "\r  0%|          | 0/301 [00:00<?, ?it/s]"
          ],
          "name": "stderr"
        },
        {
          "output_type": "stream",
          "text": [
            "EPOCH: 5 LR: 0.009202392821535395\n"
          ],
          "name": "stdout"
        },
        {
          "output_type": "stream",
          "text": [
            "Loss=2.9298083782196045 Batch_id=300 Train Accuracy=27.65: 100%|██████████| 301/301 [08:51<00:00,  1.77s/it]\n",
            "  0%|          | 0/301 [00:00<?, ?it/s]"
          ],
          "name": "stderr"
        },
        {
          "output_type": "stream",
          "text": [
            "\n",
            "Test set: Average loss: 3.5035, Test Accuracy: 7459/33000 (22.60%)\n",
            "\n",
            "EPOCH: 6 LR: 0.011002991026919245\n"
          ],
          "name": "stdout"
        },
        {
          "output_type": "stream",
          "text": [
            "Loss=2.973578453063965 Batch_id=300 Train Accuracy=30.95: 100%|██████████| 301/301 [08:51<00:00,  1.76s/it]\n"
          ],
          "name": "stderr"
        },
        {
          "output_type": "stream",
          "text": [
            "\n",
            "Test set: Average loss: 3.0293, Test Accuracy: 10057/33000 (30.48%)\n",
            "\n",
            "accuracy increased, Saving model....\n"
          ],
          "name": "stdout"
        },
        {
          "output_type": "stream",
          "text": [
            "\r  0%|          | 0/301 [00:00<?, ?it/s]"
          ],
          "name": "stderr"
        },
        {
          "output_type": "stream",
          "text": [
            "EPOCH: 7 LR: 0.012803589232303092\n"
          ],
          "name": "stdout"
        },
        {
          "output_type": "stream",
          "text": [
            "Loss=2.8318915367126465 Batch_id=300 Train Accuracy=33.81: 100%|██████████| 301/301 [08:52<00:00,  1.77s/it]\n"
          ],
          "name": "stderr"
        },
        {
          "output_type": "stream",
          "text": [
            "\n",
            "Test set: Average loss: 2.9160, Test Accuracy: 10647/33000 (32.26%)\n",
            "\n",
            "accuracy increased, Saving model....\n"
          ],
          "name": "stdout"
        },
        {
          "output_type": "stream",
          "text": [
            "\r  0%|          | 0/301 [00:00<?, ?it/s]"
          ],
          "name": "stderr"
        },
        {
          "output_type": "stream",
          "text": [
            "EPOCH: 8 LR: 0.01460418743768694\n"
          ],
          "name": "stdout"
        },
        {
          "output_type": "stream",
          "text": [
            "Loss=2.571411371231079 Batch_id=300 Train Accuracy=36.15: 100%|██████████| 301/301 [08:51<00:00,  1.76s/it]\n",
            "  0%|          | 0/301 [00:00<?, ?it/s]"
          ],
          "name": "stderr"
        },
        {
          "output_type": "stream",
          "text": [
            "\n",
            "Test set: Average loss: 3.0135, Test Accuracy: 10425/33000 (31.59%)\n",
            "\n",
            "EPOCH: 9 LR: 0.01640478564307079\n"
          ],
          "name": "stdout"
        },
        {
          "output_type": "stream",
          "text": [
            "Loss=2.50582218170166 Batch_id=300 Train Accuracy=38.51: 100%|██████████| 301/301 [08:52<00:00,  1.77s/it]\n"
          ],
          "name": "stderr"
        },
        {
          "output_type": "stream",
          "text": [
            "\n",
            "Test set: Average loss: 2.8037, Test Accuracy: 11443/33000 (34.68%)\n",
            "\n",
            "accuracy increased, Saving model....\n"
          ],
          "name": "stdout"
        },
        {
          "output_type": "stream",
          "text": [
            "\r  0%|          | 0/301 [00:00<?, ?it/s]"
          ],
          "name": "stderr"
        },
        {
          "output_type": "stream",
          "text": [
            "EPOCH: 10 LR: 0.01820538384845464\n"
          ],
          "name": "stdout"
        },
        {
          "output_type": "stream",
          "text": [
            "Loss=2.3824336528778076 Batch_id=300 Train Accuracy=40.51: 100%|██████████| 301/301 [08:51<00:00,  1.76s/it]\n"
          ],
          "name": "stderr"
        },
        {
          "output_type": "stream",
          "text": [
            "\n",
            "Test set: Average loss: 2.8394, Test Accuracy: 12065/33000 (36.56%)\n",
            "\n",
            "accuracy increased, Saving model....\n"
          ],
          "name": "stdout"
        },
        {
          "output_type": "stream",
          "text": [
            "\r  0%|          | 0/301 [00:00<?, ?it/s]"
          ],
          "name": "stderr"
        },
        {
          "output_type": "stream",
          "text": [
            "EPOCH: 11 LR: 0.01999671096345515\n"
          ],
          "name": "stdout"
        },
        {
          "output_type": "stream",
          "text": [
            "Loss=2.3061728477478027 Batch_id=300 Train Accuracy=42.66: 100%|██████████| 301/301 [08:53<00:00,  1.77s/it]\n",
            "  0%|          | 0/301 [00:00<?, ?it/s]"
          ],
          "name": "stderr"
        },
        {
          "output_type": "stream",
          "text": [
            "\n",
            "Test set: Average loss: 2.7709, Test Accuracy: 11897/33000 (36.05%)\n",
            "\n",
            "EPOCH: 12 LR: 0.01900671096345515\n"
          ],
          "name": "stdout"
        },
        {
          "output_type": "stream",
          "text": [
            "Loss=2.4686858654022217 Batch_id=300 Train Accuracy=44.74: 100%|██████████| 301/301 [08:50<00:00,  1.76s/it]\n"
          ],
          "name": "stderr"
        },
        {
          "output_type": "stream",
          "text": [
            "\n",
            "Test set: Average loss: 2.7821, Test Accuracy: 12308/33000 (37.30%)\n",
            "\n",
            "accuracy increased, Saving model....\n"
          ],
          "name": "stdout"
        },
        {
          "output_type": "stream",
          "text": [
            "\r  0%|          | 0/301 [00:00<?, ?it/s]"
          ],
          "name": "stderr"
        },
        {
          "output_type": "stream",
          "text": [
            "EPOCH: 13 LR: 0.01801671096345515\n"
          ],
          "name": "stdout"
        },
        {
          "output_type": "stream",
          "text": [
            "Loss=2.1276772022247314 Batch_id=300 Train Accuracy=46.49: 100%|██████████| 301/301 [08:53<00:00,  1.77s/it]\n"
          ],
          "name": "stderr"
        },
        {
          "output_type": "stream",
          "text": [
            "\n",
            "Test set: Average loss: 2.5517, Test Accuracy: 13408/33000 (40.63%)\n",
            "\n",
            "accuracy increased, Saving model....\n"
          ],
          "name": "stdout"
        },
        {
          "output_type": "stream",
          "text": [
            "\r  0%|          | 0/301 [00:00<?, ?it/s]"
          ],
          "name": "stderr"
        },
        {
          "output_type": "stream",
          "text": [
            "EPOCH: 14 LR: 0.01702671096345515\n"
          ],
          "name": "stdout"
        },
        {
          "output_type": "stream",
          "text": [
            "Loss=2.158343553543091 Batch_id=300 Train Accuracy=48.19: 100%|██████████| 301/301 [08:51<00:00,  1.76s/it]\n"
          ],
          "name": "stderr"
        },
        {
          "output_type": "stream",
          "text": [
            "\n",
            "Test set: Average loss: 2.4427, Test Accuracy: 13817/33000 (41.87%)\n",
            "\n",
            "accuracy increased, Saving model....\n"
          ],
          "name": "stdout"
        },
        {
          "output_type": "stream",
          "text": [
            "\r  0%|          | 0/301 [00:00<?, ?it/s]"
          ],
          "name": "stderr"
        },
        {
          "output_type": "stream",
          "text": [
            "EPOCH: 15 LR: 0.01603671096345515\n"
          ],
          "name": "stdout"
        },
        {
          "output_type": "stream",
          "text": [
            "Loss=2.187617778778076 Batch_id=300 Train Accuracy=49.64: 100%|██████████| 301/301 [08:53<00:00,  1.77s/it]\n"
          ],
          "name": "stderr"
        },
        {
          "output_type": "stream",
          "text": [
            "\n",
            "Test set: Average loss: 2.4848, Test Accuracy: 14028/33000 (42.51%)\n",
            "\n",
            "accuracy increased, Saving model....\n"
          ],
          "name": "stdout"
        },
        {
          "output_type": "stream",
          "text": [
            "\r  0%|          | 0/301 [00:00<?, ?it/s]"
          ],
          "name": "stderr"
        },
        {
          "output_type": "stream",
          "text": [
            "EPOCH: 16 LR: 0.01504671096345515\n"
          ],
          "name": "stdout"
        },
        {
          "output_type": "stream",
          "text": [
            "Loss=2.0476503372192383 Batch_id=300 Train Accuracy=51.32: 100%|██████████| 301/301 [08:51<00:00,  1.76s/it]\n"
          ],
          "name": "stderr"
        },
        {
          "output_type": "stream",
          "text": [
            "\n",
            "Test set: Average loss: 2.3459, Test Accuracy: 14718/33000 (44.60%)\n",
            "\n",
            "accuracy increased, Saving model....\n"
          ],
          "name": "stdout"
        },
        {
          "output_type": "stream",
          "text": [
            "\r  0%|          | 0/301 [00:00<?, ?it/s]"
          ],
          "name": "stderr"
        },
        {
          "output_type": "stream",
          "text": [
            "EPOCH: 17 LR: 0.014056710963455149\n"
          ],
          "name": "stdout"
        },
        {
          "output_type": "stream",
          "text": [
            "Loss=1.9024795293807983 Batch_id=300 Train Accuracy=52.88: 100%|██████████| 301/301 [08:53<00:00,  1.77s/it]\n"
          ],
          "name": "stderr"
        },
        {
          "output_type": "stream",
          "text": [
            "\n",
            "Test set: Average loss: 2.3268, Test Accuracy: 14858/33000 (45.02%)\n",
            "\n",
            "accuracy increased, Saving model....\n"
          ],
          "name": "stdout"
        },
        {
          "output_type": "stream",
          "text": [
            "\r  0%|          | 0/301 [00:00<?, ?it/s]"
          ],
          "name": "stderr"
        },
        {
          "output_type": "stream",
          "text": [
            "EPOCH: 18 LR: 0.01306671096345515\n"
          ],
          "name": "stdout"
        },
        {
          "output_type": "stream",
          "text": [
            "Loss=2.02685284614563 Batch_id=300 Train Accuracy=54.47: 100%|██████████| 301/301 [08:50<00:00,  1.76s/it]\n"
          ],
          "name": "stderr"
        },
        {
          "output_type": "stream",
          "text": [
            "\n",
            "Test set: Average loss: 2.3362, Test Accuracy: 15015/33000 (45.50%)\n",
            "\n",
            "accuracy increased, Saving model....\n"
          ],
          "name": "stdout"
        },
        {
          "output_type": "stream",
          "text": [
            "\r  0%|          | 0/301 [00:00<?, ?it/s]"
          ],
          "name": "stderr"
        },
        {
          "output_type": "stream",
          "text": [
            "EPOCH: 19 LR: 0.012076710963455148\n"
          ],
          "name": "stdout"
        },
        {
          "output_type": "stream",
          "text": [
            "Loss=2.0095229148864746 Batch_id=300 Train Accuracy=55.76: 100%|██████████| 301/301 [08:52<00:00,  1.77s/it]\n"
          ],
          "name": "stderr"
        },
        {
          "output_type": "stream",
          "text": [
            "\n",
            "Test set: Average loss: 2.1994, Test Accuracy: 15689/33000 (47.54%)\n",
            "\n",
            "accuracy increased, Saving model....\n"
          ],
          "name": "stdout"
        },
        {
          "output_type": "stream",
          "text": [
            "\r  0%|          | 0/301 [00:00<?, ?it/s]"
          ],
          "name": "stderr"
        },
        {
          "output_type": "stream",
          "text": [
            "EPOCH: 20 LR: 0.011086710963455149\n"
          ],
          "name": "stdout"
        },
        {
          "output_type": "stream",
          "text": [
            "Loss=1.7325658798217773 Batch_id=300 Train Accuracy=57.47: 100%|██████████| 301/301 [08:51<00:00,  1.77s/it]\n"
          ],
          "name": "stderr"
        },
        {
          "output_type": "stream",
          "text": [
            "\n",
            "Test set: Average loss: 2.1419, Test Accuracy: 16234/33000 (49.19%)\n",
            "\n",
            "accuracy increased, Saving model....\n"
          ],
          "name": "stdout"
        },
        {
          "output_type": "stream",
          "text": [
            "\r  0%|          | 0/301 [00:00<?, ?it/s]"
          ],
          "name": "stderr"
        },
        {
          "output_type": "stream",
          "text": [
            "EPOCH: 21 LR: 0.010096710963455147\n"
          ],
          "name": "stdout"
        },
        {
          "output_type": "stream",
          "text": [
            "Loss=1.4754365682601929 Batch_id=300 Train Accuracy=58.52: 100%|██████████| 301/301 [08:52<00:00,  1.77s/it]\n"
          ],
          "name": "stderr"
        },
        {
          "output_type": "stream",
          "text": [
            "\n",
            "Test set: Average loss: 2.1049, Test Accuracy: 16440/33000 (49.82%)\n",
            "\n",
            "accuracy increased, Saving model....\n"
          ],
          "name": "stdout"
        },
        {
          "output_type": "stream",
          "text": [
            "\r  0%|          | 0/301 [00:00<?, ?it/s]"
          ],
          "name": "stderr"
        },
        {
          "output_type": "stream",
          "text": [
            "EPOCH: 22 LR: 0.00910671096345515\n"
          ],
          "name": "stdout"
        },
        {
          "output_type": "stream",
          "text": [
            "Loss=1.6060850620269775 Batch_id=300 Train Accuracy=60.21: 100%|██████████| 301/301 [08:51<00:00,  1.76s/it]\n",
            "  0%|          | 0/301 [00:00<?, ?it/s]"
          ],
          "name": "stderr"
        },
        {
          "output_type": "stream",
          "text": [
            "\n",
            "Test set: Average loss: 2.1643, Test Accuracy: 16121/33000 (48.85%)\n",
            "\n",
            "EPOCH: 23 LR: 0.008116710963455148\n"
          ],
          "name": "stdout"
        },
        {
          "output_type": "stream",
          "text": [
            "Loss=1.4678436517715454 Batch_id=300 Train Accuracy=61.61: 100%|██████████| 301/301 [08:52<00:00,  1.77s/it]\n",
            "  0%|          | 0/301 [00:00<?, ?it/s]"
          ],
          "name": "stderr"
        },
        {
          "output_type": "stream",
          "text": [
            "\n",
            "Test set: Average loss: 2.2036, Test Accuracy: 15900/33000 (48.18%)\n",
            "\n",
            "EPOCH: 24 LR: 0.00712671096345515\n"
          ],
          "name": "stdout"
        },
        {
          "output_type": "stream",
          "text": [
            "Loss=1.7020820379257202 Batch_id=300 Train Accuracy=63.08: 100%|██████████| 301/301 [08:50<00:00,  1.76s/it]\n"
          ],
          "name": "stderr"
        },
        {
          "output_type": "stream",
          "text": [
            "\n",
            "Test set: Average loss: 2.0067, Test Accuracy: 17057/33000 (51.69%)\n",
            "\n",
            "accuracy increased, Saving model....\n"
          ],
          "name": "stdout"
        },
        {
          "output_type": "stream",
          "text": [
            "\r  0%|          | 0/301 [00:00<?, ?it/s]"
          ],
          "name": "stderr"
        },
        {
          "output_type": "stream",
          "text": [
            "EPOCH: 25 LR: 0.006136710963455149\n"
          ],
          "name": "stdout"
        },
        {
          "output_type": "stream",
          "text": [
            "Loss=1.2955293655395508 Batch_id=300 Train Accuracy=64.55: 100%|██████████| 301/301 [08:53<00:00,  1.77s/it]\n",
            "  0%|          | 0/301 [00:00<?, ?it/s]"
          ],
          "name": "stderr"
        },
        {
          "output_type": "stream",
          "text": [
            "\n",
            "Test set: Average loss: 2.1020, Test Accuracy: 16842/33000 (51.04%)\n",
            "\n",
            "EPOCH: 26 LR: 0.005146710963455148\n"
          ],
          "name": "stdout"
        },
        {
          "output_type": "stream",
          "text": [
            "Loss=1.3270732164382935 Batch_id=300 Train Accuracy=66.36: 100%|██████████| 301/301 [08:51<00:00,  1.76s/it]\n"
          ],
          "name": "stderr"
        },
        {
          "output_type": "stream",
          "text": [
            "\n",
            "Test set: Average loss: 1.9556, Test Accuracy: 17779/33000 (53.88%)\n",
            "\n",
            "accuracy increased, Saving model....\n"
          ],
          "name": "stdout"
        },
        {
          "output_type": "stream",
          "text": [
            "\r  0%|          | 0/301 [00:00<?, ?it/s]"
          ],
          "name": "stderr"
        },
        {
          "output_type": "stream",
          "text": [
            "EPOCH: 27 LR: 0.00415671096345515\n"
          ],
          "name": "stdout"
        },
        {
          "output_type": "stream",
          "text": [
            "Loss=1.2143646478652954 Batch_id=300 Train Accuracy=68.19: 100%|██████████| 301/301 [08:52<00:00,  1.77s/it]\n"
          ],
          "name": "stderr"
        },
        {
          "output_type": "stream",
          "text": [
            "\n",
            "Test set: Average loss: 1.9085, Test Accuracy: 17930/33000 (54.33%)\n",
            "\n",
            "accuracy increased, Saving model....\n"
          ],
          "name": "stdout"
        },
        {
          "output_type": "stream",
          "text": [
            "\r  0%|          | 0/301 [00:00<?, ?it/s]"
          ],
          "name": "stderr"
        },
        {
          "output_type": "stream",
          "text": [
            "EPOCH: 28 LR: 0.0031667109634551487\n"
          ],
          "name": "stdout"
        },
        {
          "output_type": "stream",
          "text": [
            "Loss=1.0423476696014404 Batch_id=300 Train Accuracy=70.41: 100%|██████████| 301/301 [08:51<00:00,  1.76s/it]\n"
          ],
          "name": "stderr"
        },
        {
          "output_type": "stream",
          "text": [
            "\n",
            "Test set: Average loss: 1.8629, Test Accuracy: 18326/33000 (55.53%)\n",
            "\n",
            "accuracy increased, Saving model....\n"
          ],
          "name": "stdout"
        },
        {
          "output_type": "stream",
          "text": [
            "\r  0%|          | 0/301 [00:00<?, ?it/s]"
          ],
          "name": "stderr"
        },
        {
          "output_type": "stream",
          "text": [
            "EPOCH: 29 LR: 0.002176710963455151\n"
          ],
          "name": "stdout"
        },
        {
          "output_type": "stream",
          "text": [
            "Loss=1.0231317281723022 Batch_id=300 Train Accuracy=72.59: 100%|██████████| 301/301 [08:53<00:00,  1.77s/it]\n"
          ],
          "name": "stderr"
        },
        {
          "output_type": "stream",
          "text": [
            "\n",
            "Test set: Average loss: 1.8066, Test Accuracy: 18666/33000 (56.56%)\n",
            "\n",
            "accuracy increased, Saving model....\n"
          ],
          "name": "stdout"
        },
        {
          "output_type": "stream",
          "text": [
            "\r  0%|          | 0/301 [00:00<?, ?it/s]"
          ],
          "name": "stderr"
        },
        {
          "output_type": "stream",
          "text": [
            "EPOCH: 30 LR: 0.0011867109634551495\n"
          ],
          "name": "stdout"
        },
        {
          "output_type": "stream",
          "text": [
            "Loss=0.9113892912864685 Batch_id=300 Train Accuracy=74.99: 100%|██████████| 301/301 [08:51<00:00,  1.76s/it]\n"
          ],
          "name": "stderr"
        },
        {
          "output_type": "stream",
          "text": [
            "\n",
            "Test set: Average loss: 1.7597, Test Accuracy: 18973/33000 (57.49%)\n",
            "\n",
            "accuracy increased, Saving model....\n"
          ],
          "name": "stdout"
        }
      ]
    },
    {
      "cell_type": "markdown",
      "metadata": {
        "id": "m5DiRPiqs1r8"
      },
      "source": [
        "## Validation accuracies and Loss change curves"
      ]
    },
    {
      "cell_type": "code",
      "metadata": {
        "id": "NWl5nvb4s0ah",
        "outputId": "31c877e5-f835-4bca-c3f4-10ea6e59a28c",
        "colab": {
          "base_uri": "https://localhost:8080/",
          "height": 609
        }
      },
      "source": [
        "utils.valid_accuracy_loss_plots(train_loss, train_acc, test_loss, test_acc)"
      ],
      "execution_count": 14,
      "outputs": [
        {
          "output_type": "display_data",
          "data": {
            "image/png": "[encoded data removed]",
            "text/plain": [
              "<Figure size 1080x720 with 4 Axes>"
            ]
          },
          "metadata": {
            "tags": []
          }
        }
      ]
    }
  ]
}