{
 "cells": [
  {
   "cell_type": "code",
   "execution_count": 1,
   "metadata": {
    "ExecuteTime": {
     "end_time": "2020-10-17T18:31:48.536508Z",
     "start_time": "2020-10-17T18:31:48.089504Z"
    }
   },
   "outputs": [],
   "source": [
    "import pandas as pd\n",
    "import numpy as np\n",
    "import json\n",
    "import csv\n",
    "import os\n",
    "from PIL import Image"
   ]
  },
  {
   "cell_type": "markdown",
   "metadata": {},
   "source": [
    "# Load JSON and prepare Data Frame"
   ]
  },
  {
   "cell_type": "code",
   "execution_count": 2,
   "metadata": {
    "ExecuteTime": {
     "end_time": "2020-10-17T18:31:49.695983Z",
     "start_time": "2020-10-17T18:31:49.650986Z"
    }
   },
   "outputs": [],
   "source": [
    "df = pd.read_json('s12_dataset.json').T"
   ]
  },
  {
   "cell_type": "code",
   "execution_count": 3,
   "metadata": {
    "ExecuteTime": {
     "end_time": "2020-10-17T18:31:50.066721Z",
     "start_time": "2020-10-17T18:31:50.034683Z"
    }
   },
   "outputs": [
    {
     "data": {
      "text/html": [
       "<div>\n",
       "<style scoped>\n",
       "    .dataframe tbody tr th:only-of-type {\n",
       "        vertical-align: middle;\n",
       "    }\n",
       "\n",
       "    .dataframe tbody tr th {\n",
       "        vertical-align: top;\n",
       "    }\n",
       "\n",
       "    .dataframe thead th {\n",
       "        text-align: right;\n",
       "    }\n",
       "</style>\n",
       "<table border=\"1\" class=\"dataframe\">\n",
       "  <thead>\n",
       "    <tr style=\"text-align: right;\">\n",
       "      <th></th>\n",
       "      <th>filename</th>\n",
       "      <th>size</th>\n",
       "      <th>regions</th>\n",
       "      <th>file_attributes</th>\n",
       "    </tr>\n",
       "  </thead>\n",
       "  <tbody>\n",
       "    <tr>\n",
       "      <th>0</th>\n",
       "      <td>img_001.jpg</td>\n",
       "      <td>116338</td>\n",
       "      <td>[{'shape_attributes': {'name': 'rect', 'x': 70...</td>\n",
       "      <td>{}</td>\n",
       "    </tr>\n",
       "    <tr>\n",
       "      <th>1</th>\n",
       "      <td>img_002.jpg</td>\n",
       "      <td>204699</td>\n",
       "      <td>[{'shape_attributes': {'name': 'rect', 'x': 76...</td>\n",
       "      <td>{}</td>\n",
       "    </tr>\n",
       "    <tr>\n",
       "      <th>2</th>\n",
       "      <td>img_003.jpg</td>\n",
       "      <td>66270</td>\n",
       "      <td>[{'shape_attributes': {'name': 'rect', 'x': 49...</td>\n",
       "      <td>{}</td>\n",
       "    </tr>\n",
       "    <tr>\n",
       "      <th>3</th>\n",
       "      <td>img_004.jpg</td>\n",
       "      <td>12112</td>\n",
       "      <td>[{'shape_attributes': {'name': 'rect', 'x': 13...</td>\n",
       "      <td>{}</td>\n",
       "    </tr>\n",
       "    <tr>\n",
       "      <th>4</th>\n",
       "      <td>img_005.jpg</td>\n",
       "      <td>325017</td>\n",
       "      <td>[{'shape_attributes': {'name': 'rect', 'x': 88...</td>\n",
       "      <td>{}</td>\n",
       "    </tr>\n",
       "  </tbody>\n",
       "</table>\n",
       "</div>"
      ],
      "text/plain": [
       "      filename    size                                            regions  \\\n",
       "0  img_001.jpg  116338  [{'shape_attributes': {'name': 'rect', 'x': 70...   \n",
       "1  img_002.jpg  204699  [{'shape_attributes': {'name': 'rect', 'x': 76...   \n",
       "2  img_003.jpg   66270  [{'shape_attributes': {'name': 'rect', 'x': 49...   \n",
       "3  img_004.jpg   12112  [{'shape_attributes': {'name': 'rect', 'x': 13...   \n",
       "4  img_005.jpg  325017  [{'shape_attributes': {'name': 'rect', 'x': 88...   \n",
       "\n",
       "  file_attributes  \n",
       "0              {}  \n",
       "1              {}  \n",
       "2              {}  \n",
       "3              {}  \n",
       "4              {}  "
      ]
     },
     "execution_count": 3,
     "metadata": {},
     "output_type": "execute_result"
    }
   ],
   "source": [
    "df.index = np.arange(0, len(df))\n",
    "df.head()"
   ]
  },
  {
   "cell_type": "code",
   "execution_count": 4,
   "metadata": {
    "ExecuteTime": {
     "end_time": "2020-10-17T18:31:50.463856Z",
     "start_time": "2020-10-17T18:31:50.454816Z"
    }
   },
   "outputs": [],
   "source": [
    "df = df.explode('regions')\n",
    "df.reset_index(inplace=True,drop=True)"
   ]
  },
  {
   "cell_type": "code",
   "execution_count": 5,
   "metadata": {
    "ExecuteTime": {
     "end_time": "2020-10-17T18:31:50.888930Z",
     "start_time": "2020-10-17T18:31:50.867926Z"
    }
   },
   "outputs": [
    {
     "data": {
      "text/html": [
       "<div>\n",
       "<style scoped>\n",
       "    .dataframe tbody tr th:only-of-type {\n",
       "        vertical-align: middle;\n",
       "    }\n",
       "\n",
       "    .dataframe tbody tr th {\n",
       "        vertical-align: top;\n",
       "    }\n",
       "\n",
       "    .dataframe thead th {\n",
       "        text-align: right;\n",
       "    }\n",
       "</style>\n",
       "<table border=\"1\" class=\"dataframe\">\n",
       "  <thead>\n",
       "    <tr style=\"text-align: right;\">\n",
       "      <th></th>\n",
       "      <th>filename</th>\n",
       "      <th>size</th>\n",
       "      <th>regions</th>\n",
       "      <th>file_attributes</th>\n",
       "    </tr>\n",
       "  </thead>\n",
       "  <tbody>\n",
       "    <tr>\n",
       "      <th>0</th>\n",
       "      <td>img_001.jpg</td>\n",
       "      <td>116338</td>\n",
       "      <td>{'shape_attributes': {'name': 'rect', 'x': 706...</td>\n",
       "      <td>{}</td>\n",
       "    </tr>\n",
       "    <tr>\n",
       "      <th>1</th>\n",
       "      <td>img_001.jpg</td>\n",
       "      <td>116338</td>\n",
       "      <td>{'shape_attributes': {'name': 'rect', 'x': 593...</td>\n",
       "      <td>{}</td>\n",
       "    </tr>\n",
       "    <tr>\n",
       "      <th>2</th>\n",
       "      <td>img_002.jpg</td>\n",
       "      <td>204699</td>\n",
       "      <td>{'shape_attributes': {'name': 'rect', 'x': 762...</td>\n",
       "      <td>{}</td>\n",
       "    </tr>\n",
       "    <tr>\n",
       "      <th>3</th>\n",
       "      <td>img_003.jpg</td>\n",
       "      <td>66270</td>\n",
       "      <td>{'shape_attributes': {'name': 'rect', 'x': 498...</td>\n",
       "      <td>{}</td>\n",
       "    </tr>\n",
       "    <tr>\n",
       "      <th>4</th>\n",
       "      <td>img_004.jpg</td>\n",
       "      <td>12112</td>\n",
       "      <td>{'shape_attributes': {'name': 'rect', 'x': 132...</td>\n",
       "      <td>{}</td>\n",
       "    </tr>\n",
       "    <tr>\n",
       "      <th>...</th>\n",
       "      <td>...</td>\n",
       "      <td>...</td>\n",
       "      <td>...</td>\n",
       "      <td>...</td>\n",
       "    </tr>\n",
       "    <tr>\n",
       "      <th>254</th>\n",
       "      <td>img_108.jpg</td>\n",
       "      <td>15326</td>\n",
       "      <td>{'shape_attributes': {'name': 'rect', 'x': 229...</td>\n",
       "      <td>{}</td>\n",
       "    </tr>\n",
       "    <tr>\n",
       "      <th>255</th>\n",
       "      <td>img_109.jpg</td>\n",
       "      <td>10476</td>\n",
       "      <td>{'shape_attributes': {'name': 'rect', 'x': 77,...</td>\n",
       "      <td>{}</td>\n",
       "    </tr>\n",
       "    <tr>\n",
       "      <th>256</th>\n",
       "      <td>img_109.jpg</td>\n",
       "      <td>10476</td>\n",
       "      <td>{'shape_attributes': {'name': 'rect', 'x': 20,...</td>\n",
       "      <td>{}</td>\n",
       "    </tr>\n",
       "    <tr>\n",
       "      <th>257</th>\n",
       "      <td>img_110.jpg</td>\n",
       "      <td>75357</td>\n",
       "      <td>{'shape_attributes': {'name': 'rect', 'x': 318...</td>\n",
       "      <td>{}</td>\n",
       "    </tr>\n",
       "    <tr>\n",
       "      <th>258</th>\n",
       "      <td>img_110.jpg</td>\n",
       "      <td>75357</td>\n",
       "      <td>{'shape_attributes': {'name': 'rect', 'x': 141...</td>\n",
       "      <td>{}</td>\n",
       "    </tr>\n",
       "  </tbody>\n",
       "</table>\n",
       "<p>259 rows × 4 columns</p>\n",
       "</div>"
      ],
      "text/plain": [
       "        filename    size                                            regions  \\\n",
       "0    img_001.jpg  116338  {'shape_attributes': {'name': 'rect', 'x': 706...   \n",
       "1    img_001.jpg  116338  {'shape_attributes': {'name': 'rect', 'x': 593...   \n",
       "2    img_002.jpg  204699  {'shape_attributes': {'name': 'rect', 'x': 762...   \n",
       "3    img_003.jpg   66270  {'shape_attributes': {'name': 'rect', 'x': 498...   \n",
       "4    img_004.jpg   12112  {'shape_attributes': {'name': 'rect', 'x': 132...   \n",
       "..           ...     ...                                                ...   \n",
       "254  img_108.jpg   15326  {'shape_attributes': {'name': 'rect', 'x': 229...   \n",
       "255  img_109.jpg   10476  {'shape_attributes': {'name': 'rect', 'x': 77,...   \n",
       "256  img_109.jpg   10476  {'shape_attributes': {'name': 'rect', 'x': 20,...   \n",
       "257  img_110.jpg   75357  {'shape_attributes': {'name': 'rect', 'x': 318...   \n",
       "258  img_110.jpg   75357  {'shape_attributes': {'name': 'rect', 'x': 141...   \n",
       "\n",
       "    file_attributes  \n",
       "0                {}  \n",
       "1                {}  \n",
       "2                {}  \n",
       "3                {}  \n",
       "4                {}  \n",
       "..              ...  \n",
       "254              {}  \n",
       "255              {}  \n",
       "256              {}  \n",
       "257              {}  \n",
       "258              {}  \n",
       "\n",
       "[259 rows x 4 columns]"
      ]
     },
     "execution_count": 5,
     "metadata": {},
     "output_type": "execute_result"
    }
   ],
   "source": [
    "df"
   ]
  },
  {
   "cell_type": "code",
   "execution_count": 6,
   "metadata": {
    "ExecuteTime": {
     "end_time": "2020-10-17T18:31:56.152634Z",
     "start_time": "2020-10-17T18:31:56.146637Z"
    }
   },
   "outputs": [],
   "source": [
    "df.drop(df.columns[[1, 3]], axis = 1, inplace = True)"
   ]
  },
  {
   "cell_type": "code",
   "execution_count": 7,
   "metadata": {
    "ExecuteTime": {
     "end_time": "2020-10-17T18:31:56.366677Z",
     "start_time": "2020-10-17T18:31:56.346651Z"
    }
   },
   "outputs": [
    {
     "data": {
      "text/html": [
       "<div>\n",
       "<style scoped>\n",
       "    .dataframe tbody tr th:only-of-type {\n",
       "        vertical-align: middle;\n",
       "    }\n",
       "\n",
       "    .dataframe tbody tr th {\n",
       "        vertical-align: top;\n",
       "    }\n",
       "\n",
       "    .dataframe thead th {\n",
       "        text-align: right;\n",
       "    }\n",
       "</style>\n",
       "<table border=\"1\" class=\"dataframe\">\n",
       "  <thead>\n",
       "    <tr style=\"text-align: right;\">\n",
       "      <th></th>\n",
       "      <th>filename</th>\n",
       "      <th>regions</th>\n",
       "    </tr>\n",
       "  </thead>\n",
       "  <tbody>\n",
       "    <tr>\n",
       "      <th>0</th>\n",
       "      <td>img_001.jpg</td>\n",
       "      <td>{'shape_attributes': {'name': 'rect', 'x': 706...</td>\n",
       "    </tr>\n",
       "    <tr>\n",
       "      <th>1</th>\n",
       "      <td>img_001.jpg</td>\n",
       "      <td>{'shape_attributes': {'name': 'rect', 'x': 593...</td>\n",
       "    </tr>\n",
       "    <tr>\n",
       "      <th>2</th>\n",
       "      <td>img_002.jpg</td>\n",
       "      <td>{'shape_attributes': {'name': 'rect', 'x': 762...</td>\n",
       "    </tr>\n",
       "    <tr>\n",
       "      <th>3</th>\n",
       "      <td>img_003.jpg</td>\n",
       "      <td>{'shape_attributes': {'name': 'rect', 'x': 498...</td>\n",
       "    </tr>\n",
       "    <tr>\n",
       "      <th>4</th>\n",
       "      <td>img_004.jpg</td>\n",
       "      <td>{'shape_attributes': {'name': 'rect', 'x': 132...</td>\n",
       "    </tr>\n",
       "    <tr>\n",
       "      <th>...</th>\n",
       "      <td>...</td>\n",
       "      <td>...</td>\n",
       "    </tr>\n",
       "    <tr>\n",
       "      <th>254</th>\n",
       "      <td>img_108.jpg</td>\n",
       "      <td>{'shape_attributes': {'name': 'rect', 'x': 229...</td>\n",
       "    </tr>\n",
       "    <tr>\n",
       "      <th>255</th>\n",
       "      <td>img_109.jpg</td>\n",
       "      <td>{'shape_attributes': {'name': 'rect', 'x': 77,...</td>\n",
       "    </tr>\n",
       "    <tr>\n",
       "      <th>256</th>\n",
       "      <td>img_109.jpg</td>\n",
       "      <td>{'shape_attributes': {'name': 'rect', 'x': 20,...</td>\n",
       "    </tr>\n",
       "    <tr>\n",
       "      <th>257</th>\n",
       "      <td>img_110.jpg</td>\n",
       "      <td>{'shape_attributes': {'name': 'rect', 'x': 318...</td>\n",
       "    </tr>\n",
       "    <tr>\n",
       "      <th>258</th>\n",
       "      <td>img_110.jpg</td>\n",
       "      <td>{'shape_attributes': {'name': 'rect', 'x': 141...</td>\n",
       "    </tr>\n",
       "  </tbody>\n",
       "</table>\n",
       "<p>259 rows × 2 columns</p>\n",
       "</div>"
      ],
      "text/plain": [
       "        filename                                            regions\n",
       "0    img_001.jpg  {'shape_attributes': {'name': 'rect', 'x': 706...\n",
       "1    img_001.jpg  {'shape_attributes': {'name': 'rect', 'x': 593...\n",
       "2    img_002.jpg  {'shape_attributes': {'name': 'rect', 'x': 762...\n",
       "3    img_003.jpg  {'shape_attributes': {'name': 'rect', 'x': 498...\n",
       "4    img_004.jpg  {'shape_attributes': {'name': 'rect', 'x': 132...\n",
       "..           ...                                                ...\n",
       "254  img_108.jpg  {'shape_attributes': {'name': 'rect', 'x': 229...\n",
       "255  img_109.jpg  {'shape_attributes': {'name': 'rect', 'x': 77,...\n",
       "256  img_109.jpg  {'shape_attributes': {'name': 'rect', 'x': 20,...\n",
       "257  img_110.jpg  {'shape_attributes': {'name': 'rect', 'x': 318...\n",
       "258  img_110.jpg  {'shape_attributes': {'name': 'rect', 'x': 141...\n",
       "\n",
       "[259 rows x 2 columns]"
      ]
     },
     "execution_count": 7,
     "metadata": {},
     "output_type": "execute_result"
    }
   ],
   "source": [
    "df"
   ]
  },
  {
   "cell_type": "code",
   "execution_count": 8,
   "metadata": {
    "ExecuteTime": {
     "end_time": "2020-10-17T18:31:56.577633Z",
     "start_time": "2020-10-17T18:31:56.560635Z"
    }
   },
   "outputs": [
    {
     "data": {
      "text/html": [
       "<div>\n",
       "<style scoped>\n",
       "    .dataframe tbody tr th:only-of-type {\n",
       "        vertical-align: middle;\n",
       "    }\n",
       "\n",
       "    .dataframe tbody tr th {\n",
       "        vertical-align: top;\n",
       "    }\n",
       "\n",
       "    .dataframe thead th {\n",
       "        text-align: right;\n",
       "    }\n",
       "</style>\n",
       "<table border=\"1\" class=\"dataframe\">\n",
       "  <thead>\n",
       "    <tr style=\"text-align: right;\">\n",
       "      <th></th>\n",
       "      <th>x</th>\n",
       "      <th>y</th>\n",
       "      <th>width</th>\n",
       "      <th>height</th>\n",
       "    </tr>\n",
       "  </thead>\n",
       "  <tbody>\n",
       "    <tr>\n",
       "      <th>0</th>\n",
       "      <td>706</td>\n",
       "      <td>47</td>\n",
       "      <td>286</td>\n",
       "      <td>189</td>\n",
       "    </tr>\n",
       "    <tr>\n",
       "      <th>1</th>\n",
       "      <td>593</td>\n",
       "      <td>434</td>\n",
       "      <td>524</td>\n",
       "      <td>195</td>\n",
       "    </tr>\n",
       "    <tr>\n",
       "      <th>2</th>\n",
       "      <td>762</td>\n",
       "      <td>222</td>\n",
       "      <td>203</td>\n",
       "      <td>213</td>\n",
       "    </tr>\n",
       "    <tr>\n",
       "      <th>3</th>\n",
       "      <td>498</td>\n",
       "      <td>281</td>\n",
       "      <td>130</td>\n",
       "      <td>95</td>\n",
       "    </tr>\n",
       "    <tr>\n",
       "      <th>4</th>\n",
       "      <td>132</td>\n",
       "      <td>119</td>\n",
       "      <td>53</td>\n",
       "      <td>40</td>\n",
       "    </tr>\n",
       "    <tr>\n",
       "      <th>...</th>\n",
       "      <td>...</td>\n",
       "      <td>...</td>\n",
       "      <td>...</td>\n",
       "      <td>...</td>\n",
       "    </tr>\n",
       "    <tr>\n",
       "      <th>254</th>\n",
       "      <td>229</td>\n",
       "      <td>38</td>\n",
       "      <td>69</td>\n",
       "      <td>47</td>\n",
       "    </tr>\n",
       "    <tr>\n",
       "      <th>255</th>\n",
       "      <td>77</td>\n",
       "      <td>92</td>\n",
       "      <td>47</td>\n",
       "      <td>64</td>\n",
       "    </tr>\n",
       "    <tr>\n",
       "      <th>256</th>\n",
       "      <td>20</td>\n",
       "      <td>124</td>\n",
       "      <td>25</td>\n",
       "      <td>32</td>\n",
       "    </tr>\n",
       "    <tr>\n",
       "      <th>257</th>\n",
       "      <td>318</td>\n",
       "      <td>104</td>\n",
       "      <td>132</td>\n",
       "      <td>181</td>\n",
       "    </tr>\n",
       "    <tr>\n",
       "      <th>258</th>\n",
       "      <td>141</td>\n",
       "      <td>108</td>\n",
       "      <td>214</td>\n",
       "      <td>201</td>\n",
       "    </tr>\n",
       "  </tbody>\n",
       "</table>\n",
       "<p>259 rows × 4 columns</p>\n",
       "</div>"
      ],
      "text/plain": [
       "       x    y  width  height\n",
       "0    706   47    286     189\n",
       "1    593  434    524     195\n",
       "2    762  222    203     213\n",
       "3    498  281    130      95\n",
       "4    132  119     53      40\n",
       "..   ...  ...    ...     ...\n",
       "254  229   38     69      47\n",
       "255   77   92     47      64\n",
       "256   20  124     25      32\n",
       "257  318  104    132     181\n",
       "258  141  108    214     201\n",
       "\n",
       "[259 rows x 4 columns]"
      ]
     },
     "execution_count": 8,
     "metadata": {},
     "output_type": "execute_result"
    }
   ],
   "source": [
    "attrs = pd.DataFrame(pd.DataFrame(df['regions'].tolist())['shape_attributes'].tolist()).copy()\n",
    "attrs.drop(attrs.columns[[0]], axis = 1, inplace = True)\n",
    "attrs"
   ]
  },
  {
   "cell_type": "code",
   "execution_count": 9,
   "metadata": {
    "ExecuteTime": {
     "end_time": "2020-10-17T18:31:56.792640Z",
     "start_time": "2020-10-17T18:31:56.783638Z"
    }
   },
   "outputs": [],
   "source": [
    "classes = pd.DataFrame(pd.DataFrame(df['regions'].tolist())['region_attributes'].tolist()).copy()"
   ]
  },
  {
   "cell_type": "code",
   "execution_count": 10,
   "metadata": {
    "ExecuteTime": {
     "end_time": "2020-10-17T18:31:56.998643Z",
     "start_time": "2020-10-17T18:31:56.993643Z"
    }
   },
   "outputs": [],
   "source": [
    "classes = pd.get_dummies(classes)"
   ]
  },
  {
   "cell_type": "code",
   "execution_count": 11,
   "metadata": {
    "ExecuteTime": {
     "end_time": "2020-10-17T18:31:57.220634Z",
     "start_time": "2020-10-17T18:31:57.215642Z"
    }
   },
   "outputs": [],
   "source": [
    "df = pd.concat((df['filename'],attrs,classes),1)"
   ]
  },
  {
   "cell_type": "code",
   "execution_count": 12,
   "metadata": {
    "ExecuteTime": {
     "end_time": "2020-10-17T18:31:57.452641Z",
     "start_time": "2020-10-17T18:31:57.416638Z"
    }
   },
   "outputs": [
    {
     "data": {
      "text/html": [
       "<div>\n",
       "<style scoped>\n",
       "    .dataframe tbody tr th:only-of-type {\n",
       "        vertical-align: middle;\n",
       "    }\n",
       "\n",
       "    .dataframe tbody tr th {\n",
       "        vertical-align: top;\n",
       "    }\n",
       "\n",
       "    .dataframe thead th {\n",
       "        text-align: right;\n",
       "    }\n",
       "</style>\n",
       "<table border=\"1\" class=\"dataframe\">\n",
       "  <thead>\n",
       "    <tr style=\"text-align: right;\">\n",
       "      <th></th>\n",
       "      <th>filename</th>\n",
       "      <th>x</th>\n",
       "      <th>y</th>\n",
       "      <th>width</th>\n",
       "      <th>height</th>\n",
       "      <th>class_boots</th>\n",
       "      <th>class_hardhat</th>\n",
       "      <th>class_mask</th>\n",
       "      <th>class_vest</th>\n",
       "    </tr>\n",
       "  </thead>\n",
       "  <tbody>\n",
       "    <tr>\n",
       "      <th>0</th>\n",
       "      <td>img_001.jpg</td>\n",
       "      <td>706</td>\n",
       "      <td>47</td>\n",
       "      <td>286</td>\n",
       "      <td>189</td>\n",
       "      <td>0</td>\n",
       "      <td>1</td>\n",
       "      <td>0</td>\n",
       "      <td>0</td>\n",
       "    </tr>\n",
       "    <tr>\n",
       "      <th>1</th>\n",
       "      <td>img_001.jpg</td>\n",
       "      <td>593</td>\n",
       "      <td>434</td>\n",
       "      <td>524</td>\n",
       "      <td>195</td>\n",
       "      <td>0</td>\n",
       "      <td>0</td>\n",
       "      <td>0</td>\n",
       "      <td>1</td>\n",
       "    </tr>\n",
       "    <tr>\n",
       "      <th>2</th>\n",
       "      <td>img_002.jpg</td>\n",
       "      <td>762</td>\n",
       "      <td>222</td>\n",
       "      <td>203</td>\n",
       "      <td>213</td>\n",
       "      <td>0</td>\n",
       "      <td>0</td>\n",
       "      <td>1</td>\n",
       "      <td>0</td>\n",
       "    </tr>\n",
       "    <tr>\n",
       "      <th>3</th>\n",
       "      <td>img_003.jpg</td>\n",
       "      <td>498</td>\n",
       "      <td>281</td>\n",
       "      <td>130</td>\n",
       "      <td>95</td>\n",
       "      <td>0</td>\n",
       "      <td>0</td>\n",
       "      <td>1</td>\n",
       "      <td>0</td>\n",
       "    </tr>\n",
       "    <tr>\n",
       "      <th>4</th>\n",
       "      <td>img_004.jpg</td>\n",
       "      <td>132</td>\n",
       "      <td>119</td>\n",
       "      <td>53</td>\n",
       "      <td>40</td>\n",
       "      <td>0</td>\n",
       "      <td>0</td>\n",
       "      <td>1</td>\n",
       "      <td>0</td>\n",
       "    </tr>\n",
       "    <tr>\n",
       "      <th>...</th>\n",
       "      <td>...</td>\n",
       "      <td>...</td>\n",
       "      <td>...</td>\n",
       "      <td>...</td>\n",
       "      <td>...</td>\n",
       "      <td>...</td>\n",
       "      <td>...</td>\n",
       "      <td>...</td>\n",
       "      <td>...</td>\n",
       "    </tr>\n",
       "    <tr>\n",
       "      <th>254</th>\n",
       "      <td>img_108.jpg</td>\n",
       "      <td>229</td>\n",
       "      <td>38</td>\n",
       "      <td>69</td>\n",
       "      <td>47</td>\n",
       "      <td>1</td>\n",
       "      <td>0</td>\n",
       "      <td>0</td>\n",
       "      <td>0</td>\n",
       "    </tr>\n",
       "    <tr>\n",
       "      <th>255</th>\n",
       "      <td>img_109.jpg</td>\n",
       "      <td>77</td>\n",
       "      <td>92</td>\n",
       "      <td>47</td>\n",
       "      <td>64</td>\n",
       "      <td>1</td>\n",
       "      <td>0</td>\n",
       "      <td>0</td>\n",
       "      <td>0</td>\n",
       "    </tr>\n",
       "    <tr>\n",
       "      <th>256</th>\n",
       "      <td>img_109.jpg</td>\n",
       "      <td>20</td>\n",
       "      <td>124</td>\n",
       "      <td>25</td>\n",
       "      <td>32</td>\n",
       "      <td>1</td>\n",
       "      <td>0</td>\n",
       "      <td>0</td>\n",
       "      <td>0</td>\n",
       "    </tr>\n",
       "    <tr>\n",
       "      <th>257</th>\n",
       "      <td>img_110.jpg</td>\n",
       "      <td>318</td>\n",
       "      <td>104</td>\n",
       "      <td>132</td>\n",
       "      <td>181</td>\n",
       "      <td>1</td>\n",
       "      <td>0</td>\n",
       "      <td>0</td>\n",
       "      <td>0</td>\n",
       "    </tr>\n",
       "    <tr>\n",
       "      <th>258</th>\n",
       "      <td>img_110.jpg</td>\n",
       "      <td>141</td>\n",
       "      <td>108</td>\n",
       "      <td>214</td>\n",
       "      <td>201</td>\n",
       "      <td>1</td>\n",
       "      <td>0</td>\n",
       "      <td>0</td>\n",
       "      <td>0</td>\n",
       "    </tr>\n",
       "  </tbody>\n",
       "</table>\n",
       "<p>259 rows × 9 columns</p>\n",
       "</div>"
      ],
      "text/plain": [
       "        filename    x    y  width  height  class_boots  class_hardhat  \\\n",
       "0    img_001.jpg  706   47    286     189            0              1   \n",
       "1    img_001.jpg  593  434    524     195            0              0   \n",
       "2    img_002.jpg  762  222    203     213            0              0   \n",
       "3    img_003.jpg  498  281    130      95            0              0   \n",
       "4    img_004.jpg  132  119     53      40            0              0   \n",
       "..           ...  ...  ...    ...     ...          ...            ...   \n",
       "254  img_108.jpg  229   38     69      47            1              0   \n",
       "255  img_109.jpg   77   92     47      64            1              0   \n",
       "256  img_109.jpg   20  124     25      32            1              0   \n",
       "257  img_110.jpg  318  104    132     181            1              0   \n",
       "258  img_110.jpg  141  108    214     201            1              0   \n",
       "\n",
       "     class_mask  class_vest  \n",
       "0             0           0  \n",
       "1             0           1  \n",
       "2             1           0  \n",
       "3             1           0  \n",
       "4             1           0  \n",
       "..          ...         ...  \n",
       "254           0           0  \n",
       "255           0           0  \n",
       "256           0           0  \n",
       "257           0           0  \n",
       "258           0           0  \n",
       "\n",
       "[259 rows x 9 columns]"
      ]
     },
     "execution_count": 12,
     "metadata": {},
     "output_type": "execute_result"
    }
   ],
   "source": [
    "df"
   ]
  },
  {
   "cell_type": "code",
   "execution_count": 13,
   "metadata": {
    "ExecuteTime": {
     "end_time": "2020-10-17T18:31:57.646639Z",
     "start_time": "2020-10-17T18:31:57.641639Z"
    }
   },
   "outputs": [],
   "source": [
    "def get_image_dims(folder_path):\n",
    "    filenames = os.listdir(folder_path)\n",
    "    csv_contents = [[\"filename\",\"widht\",\"height\"]]\n",
    "    for fl in filenames:\n",
    "        img = Image.open(os.path.join(folder_path, fl))\n",
    "        w, h = img.size\n",
    "        csv_contents.append([fl, w, h])\n",
    "    img_size = pd.DataFrame(csv_contents)\n",
    "    return(img_size)"
   ]
  },
  {
   "cell_type": "code",
   "execution_count": 14,
   "metadata": {
    "ExecuteTime": {
     "end_time": "2020-10-17T18:31:57.833634Z",
     "start_time": "2020-10-17T18:31:57.829638Z"
    }
   },
   "outputs": [],
   "source": [
    "path = r'.\\DataSet'"
   ]
  },
  {
   "cell_type": "code",
   "execution_count": 15,
   "metadata": {
    "ExecuteTime": {
     "end_time": "2020-10-17T18:31:58.034633Z",
     "start_time": "2020-10-17T18:31:58.030635Z"
    }
   },
   "outputs": [],
   "source": [
    "filenames = os.listdir(path)"
   ]
  },
  {
   "cell_type": "code",
   "execution_count": 16,
   "metadata": {
    "ExecuteTime": {
     "end_time": "2020-10-17T18:31:58.329230Z",
     "start_time": "2020-10-17T18:31:58.242638Z"
    }
   },
   "outputs": [],
   "source": [
    "img_dim= []\n",
    "for fl in filenames:\n",
    "    img = Image.open(os.path.join(path, fl))\n",
    "    w, h = img.size\n",
    "    img_dim.append([fl, w, h])"
   ]
  },
  {
   "cell_type": "code",
   "execution_count": 17,
   "metadata": {
    "ExecuteTime": {
     "end_time": "2020-10-17T18:31:58.519199Z",
     "start_time": "2020-10-17T18:31:58.514196Z"
    }
   },
   "outputs": [],
   "source": [
    "img_dim = pd.DataFrame(img_dim, columns=['filename','img_width', 'img_height'])"
   ]
  },
  {
   "cell_type": "code",
   "execution_count": 18,
   "metadata": {
    "ExecuteTime": {
     "end_time": "2020-10-17T18:31:58.754214Z",
     "start_time": "2020-10-17T18:31:58.743196Z"
    }
   },
   "outputs": [
    {
     "data": {
      "text/html": [
       "<div>\n",
       "<style scoped>\n",
       "    .dataframe tbody tr th:only-of-type {\n",
       "        vertical-align: middle;\n",
       "    }\n",
       "\n",
       "    .dataframe tbody tr th {\n",
       "        vertical-align: top;\n",
       "    }\n",
       "\n",
       "    .dataframe thead th {\n",
       "        text-align: right;\n",
       "    }\n",
       "</style>\n",
       "<table border=\"1\" class=\"dataframe\">\n",
       "  <thead>\n",
       "    <tr style=\"text-align: right;\">\n",
       "      <th></th>\n",
       "      <th>filename</th>\n",
       "      <th>img_width</th>\n",
       "      <th>img_height</th>\n",
       "    </tr>\n",
       "  </thead>\n",
       "  <tbody>\n",
       "    <tr>\n",
       "      <th>0</th>\n",
       "      <td>img_001.jpg</td>\n",
       "      <td>1125</td>\n",
       "      <td>632</td>\n",
       "    </tr>\n",
       "    <tr>\n",
       "      <th>1</th>\n",
       "      <td>img_002.jpg</td>\n",
       "      <td>1600</td>\n",
       "      <td>1168</td>\n",
       "    </tr>\n",
       "    <tr>\n",
       "      <th>2</th>\n",
       "      <td>img_003.jpg</td>\n",
       "      <td>1024</td>\n",
       "      <td>683</td>\n",
       "    </tr>\n",
       "    <tr>\n",
       "      <th>3</th>\n",
       "      <td>img_004.jpg</td>\n",
       "      <td>225</td>\n",
       "      <td>225</td>\n",
       "    </tr>\n",
       "    <tr>\n",
       "      <th>4</th>\n",
       "      <td>img_005.jpg</td>\n",
       "      <td>1024</td>\n",
       "      <td>683</td>\n",
       "    </tr>\n",
       "    <tr>\n",
       "      <th>...</th>\n",
       "      <td>...</td>\n",
       "      <td>...</td>\n",
       "      <td>...</td>\n",
       "    </tr>\n",
       "    <tr>\n",
       "      <th>105</th>\n",
       "      <td>img_106.jpg</td>\n",
       "      <td>1600</td>\n",
       "      <td>918</td>\n",
       "    </tr>\n",
       "    <tr>\n",
       "      <th>106</th>\n",
       "      <td>img_107.jpg</td>\n",
       "      <td>273</td>\n",
       "      <td>185</td>\n",
       "    </tr>\n",
       "    <tr>\n",
       "      <th>107</th>\n",
       "      <td>img_108.jpg</td>\n",
       "      <td>300</td>\n",
       "      <td>168</td>\n",
       "    </tr>\n",
       "    <tr>\n",
       "      <th>108</th>\n",
       "      <td>img_109.jpg</td>\n",
       "      <td>262</td>\n",
       "      <td>192</td>\n",
       "    </tr>\n",
       "    <tr>\n",
       "      <th>109</th>\n",
       "      <td>img_110.jpg</td>\n",
       "      <td>780</td>\n",
       "      <td>500</td>\n",
       "    </tr>\n",
       "  </tbody>\n",
       "</table>\n",
       "<p>110 rows × 3 columns</p>\n",
       "</div>"
      ],
      "text/plain": [
       "        filename  img_width  img_height\n",
       "0    img_001.jpg       1125         632\n",
       "1    img_002.jpg       1600        1168\n",
       "2    img_003.jpg       1024         683\n",
       "3    img_004.jpg        225         225\n",
       "4    img_005.jpg       1024         683\n",
       "..           ...        ...         ...\n",
       "105  img_106.jpg       1600         918\n",
       "106  img_107.jpg        273         185\n",
       "107  img_108.jpg        300         168\n",
       "108  img_109.jpg        262         192\n",
       "109  img_110.jpg        780         500\n",
       "\n",
       "[110 rows x 3 columns]"
      ]
     },
     "execution_count": 18,
     "metadata": {},
     "output_type": "execute_result"
    }
   ],
   "source": [
    "img_dim"
   ]
  },
  {
   "cell_type": "code",
   "execution_count": 19,
   "metadata": {
    "ExecuteTime": {
     "end_time": "2020-10-17T18:31:59.005196Z",
     "start_time": "2020-10-17T18:31:58.997198Z"
    }
   },
   "outputs": [],
   "source": [
    "df = df.merge(img_dim, how='outer', on='filename')"
   ]
  },
  {
   "cell_type": "code",
   "execution_count": 20,
   "metadata": {
    "ExecuteTime": {
     "end_time": "2020-10-17T18:31:59.496495Z",
     "start_time": "2020-10-17T18:31:59.478458Z"
    }
   },
   "outputs": [
    {
     "data": {
      "text/html": [
       "<div>\n",
       "<style scoped>\n",
       "    .dataframe tbody tr th:only-of-type {\n",
       "        vertical-align: middle;\n",
       "    }\n",
       "\n",
       "    .dataframe tbody tr th {\n",
       "        vertical-align: top;\n",
       "    }\n",
       "\n",
       "    .dataframe thead th {\n",
       "        text-align: right;\n",
       "    }\n",
       "</style>\n",
       "<table border=\"1\" class=\"dataframe\">\n",
       "  <thead>\n",
       "    <tr style=\"text-align: right;\">\n",
       "      <th></th>\n",
       "      <th>filename</th>\n",
       "      <th>img_width</th>\n",
       "      <th>img_height</th>\n",
       "      <th>x</th>\n",
       "      <th>y</th>\n",
       "      <th>width</th>\n",
       "      <th>height</th>\n",
       "      <th>class_boots</th>\n",
       "      <th>class_hardhat</th>\n",
       "      <th>class_mask</th>\n",
       "      <th>class_vest</th>\n",
       "    </tr>\n",
       "  </thead>\n",
       "  <tbody>\n",
       "    <tr>\n",
       "      <th>0</th>\n",
       "      <td>img_001.jpg</td>\n",
       "      <td>1125</td>\n",
       "      <td>632</td>\n",
       "      <td>706</td>\n",
       "      <td>47</td>\n",
       "      <td>286</td>\n",
       "      <td>189</td>\n",
       "      <td>0</td>\n",
       "      <td>1</td>\n",
       "      <td>0</td>\n",
       "      <td>0</td>\n",
       "    </tr>\n",
       "    <tr>\n",
       "      <th>1</th>\n",
       "      <td>img_001.jpg</td>\n",
       "      <td>1125</td>\n",
       "      <td>632</td>\n",
       "      <td>593</td>\n",
       "      <td>434</td>\n",
       "      <td>524</td>\n",
       "      <td>195</td>\n",
       "      <td>0</td>\n",
       "      <td>0</td>\n",
       "      <td>0</td>\n",
       "      <td>1</td>\n",
       "    </tr>\n",
       "    <tr>\n",
       "      <th>2</th>\n",
       "      <td>img_002.jpg</td>\n",
       "      <td>1600</td>\n",
       "      <td>1168</td>\n",
       "      <td>762</td>\n",
       "      <td>222</td>\n",
       "      <td>203</td>\n",
       "      <td>213</td>\n",
       "      <td>0</td>\n",
       "      <td>0</td>\n",
       "      <td>1</td>\n",
       "      <td>0</td>\n",
       "    </tr>\n",
       "    <tr>\n",
       "      <th>3</th>\n",
       "      <td>img_003.jpg</td>\n",
       "      <td>1024</td>\n",
       "      <td>683</td>\n",
       "      <td>498</td>\n",
       "      <td>281</td>\n",
       "      <td>130</td>\n",
       "      <td>95</td>\n",
       "      <td>0</td>\n",
       "      <td>0</td>\n",
       "      <td>1</td>\n",
       "      <td>0</td>\n",
       "    </tr>\n",
       "    <tr>\n",
       "      <th>4</th>\n",
       "      <td>img_004.jpg</td>\n",
       "      <td>225</td>\n",
       "      <td>225</td>\n",
       "      <td>132</td>\n",
       "      <td>119</td>\n",
       "      <td>53</td>\n",
       "      <td>40</td>\n",
       "      <td>0</td>\n",
       "      <td>0</td>\n",
       "      <td>1</td>\n",
       "      <td>0</td>\n",
       "    </tr>\n",
       "    <tr>\n",
       "      <th>...</th>\n",
       "      <td>...</td>\n",
       "      <td>...</td>\n",
       "      <td>...</td>\n",
       "      <td>...</td>\n",
       "      <td>...</td>\n",
       "      <td>...</td>\n",
       "      <td>...</td>\n",
       "      <td>...</td>\n",
       "      <td>...</td>\n",
       "      <td>...</td>\n",
       "      <td>...</td>\n",
       "    </tr>\n",
       "    <tr>\n",
       "      <th>254</th>\n",
       "      <td>img_108.jpg</td>\n",
       "      <td>300</td>\n",
       "      <td>168</td>\n",
       "      <td>229</td>\n",
       "      <td>38</td>\n",
       "      <td>69</td>\n",
       "      <td>47</td>\n",
       "      <td>1</td>\n",
       "      <td>0</td>\n",
       "      <td>0</td>\n",
       "      <td>0</td>\n",
       "    </tr>\n",
       "    <tr>\n",
       "      <th>255</th>\n",
       "      <td>img_109.jpg</td>\n",
       "      <td>262</td>\n",
       "      <td>192</td>\n",
       "      <td>77</td>\n",
       "      <td>92</td>\n",
       "      <td>47</td>\n",
       "      <td>64</td>\n",
       "      <td>1</td>\n",
       "      <td>0</td>\n",
       "      <td>0</td>\n",
       "      <td>0</td>\n",
       "    </tr>\n",
       "    <tr>\n",
       "      <th>256</th>\n",
       "      <td>img_109.jpg</td>\n",
       "      <td>262</td>\n",
       "      <td>192</td>\n",
       "      <td>20</td>\n",
       "      <td>124</td>\n",
       "      <td>25</td>\n",
       "      <td>32</td>\n",
       "      <td>1</td>\n",
       "      <td>0</td>\n",
       "      <td>0</td>\n",
       "      <td>0</td>\n",
       "    </tr>\n",
       "    <tr>\n",
       "      <th>257</th>\n",
       "      <td>img_110.jpg</td>\n",
       "      <td>780</td>\n",
       "      <td>500</td>\n",
       "      <td>318</td>\n",
       "      <td>104</td>\n",
       "      <td>132</td>\n",
       "      <td>181</td>\n",
       "      <td>1</td>\n",
       "      <td>0</td>\n",
       "      <td>0</td>\n",
       "      <td>0</td>\n",
       "    </tr>\n",
       "    <tr>\n",
       "      <th>258</th>\n",
       "      <td>img_110.jpg</td>\n",
       "      <td>780</td>\n",
       "      <td>500</td>\n",
       "      <td>141</td>\n",
       "      <td>108</td>\n",
       "      <td>214</td>\n",
       "      <td>201</td>\n",
       "      <td>1</td>\n",
       "      <td>0</td>\n",
       "      <td>0</td>\n",
       "      <td>0</td>\n",
       "    </tr>\n",
       "  </tbody>\n",
       "</table>\n",
       "<p>259 rows × 11 columns</p>\n",
       "</div>"
      ],
      "text/plain": [
       "        filename  img_width  img_height    x    y  width  height  class_boots  \\\n",
       "0    img_001.jpg       1125         632  706   47    286     189            0   \n",
       "1    img_001.jpg       1125         632  593  434    524     195            0   \n",
       "2    img_002.jpg       1600        1168  762  222    203     213            0   \n",
       "3    img_003.jpg       1024         683  498  281    130      95            0   \n",
       "4    img_004.jpg        225         225  132  119     53      40            0   \n",
       "..           ...        ...         ...  ...  ...    ...     ...          ...   \n",
       "254  img_108.jpg        300         168  229   38     69      47            1   \n",
       "255  img_109.jpg        262         192   77   92     47      64            1   \n",
       "256  img_109.jpg        262         192   20  124     25      32            1   \n",
       "257  img_110.jpg        780         500  318  104    132     181            1   \n",
       "258  img_110.jpg        780         500  141  108    214     201            1   \n",
       "\n",
       "     class_hardhat  class_mask  class_vest  \n",
       "0                1           0           0  \n",
       "1                0           0           1  \n",
       "2                0           1           0  \n",
       "3                0           1           0  \n",
       "4                0           1           0  \n",
       "..             ...         ...         ...  \n",
       "254              0           0           0  \n",
       "255              0           0           0  \n",
       "256              0           0           0  \n",
       "257              0           0           0  \n",
       "258              0           0           0  \n",
       "\n",
       "[259 rows x 11 columns]"
      ]
     },
     "execution_count": 20,
     "metadata": {},
     "output_type": "execute_result"
    }
   ],
   "source": [
    "col_names = ['filename', 'img_width', 'img_height', 'x', 'y', 'width', 'height', 'class_boots', 'class_hardhat',\n",
    "       'class_mask', 'class_vest']\n",
    "df = df.reindex(columns=col_names)\n",
    "df"
   ]
  },
  {
   "cell_type": "code",
   "execution_count": 21,
   "metadata": {
    "ExecuteTime": {
     "end_time": "2020-10-17T18:32:00.025045Z",
     "start_time": "2020-10-17T18:32:00.020046Z"
    }
   },
   "outputs": [],
   "source": [
    "df.rename(columns = {'x': 'bb_x', 'y': 'bb_y', 'width': 'bb_width', 'height': 'bb_height'}, inplace = True)"
   ]
  },
  {
   "cell_type": "code",
   "execution_count": 22,
   "metadata": {
    "ExecuteTime": {
     "end_time": "2020-10-17T18:32:00.627047Z",
     "start_time": "2020-10-17T18:32:00.611049Z"
    }
   },
   "outputs": [
    {
     "data": {
      "text/html": [
       "<div>\n",
       "<style scoped>\n",
       "    .dataframe tbody tr th:only-of-type {\n",
       "        vertical-align: middle;\n",
       "    }\n",
       "\n",
       "    .dataframe tbody tr th {\n",
       "        vertical-align: top;\n",
       "    }\n",
       "\n",
       "    .dataframe thead th {\n",
       "        text-align: right;\n",
       "    }\n",
       "</style>\n",
       "<table border=\"1\" class=\"dataframe\">\n",
       "  <thead>\n",
       "    <tr style=\"text-align: right;\">\n",
       "      <th></th>\n",
       "      <th>filename</th>\n",
       "      <th>img_width</th>\n",
       "      <th>img_height</th>\n",
       "      <th>bb_x</th>\n",
       "      <th>bb_y</th>\n",
       "      <th>bb_width</th>\n",
       "      <th>bb_height</th>\n",
       "      <th>class_boots</th>\n",
       "      <th>class_hardhat</th>\n",
       "      <th>class_mask</th>\n",
       "      <th>class_vest</th>\n",
       "    </tr>\n",
       "  </thead>\n",
       "  <tbody>\n",
       "    <tr>\n",
       "      <th>0</th>\n",
       "      <td>img_001.jpg</td>\n",
       "      <td>1125</td>\n",
       "      <td>632</td>\n",
       "      <td>706</td>\n",
       "      <td>47</td>\n",
       "      <td>286</td>\n",
       "      <td>189</td>\n",
       "      <td>0</td>\n",
       "      <td>1</td>\n",
       "      <td>0</td>\n",
       "      <td>0</td>\n",
       "    </tr>\n",
       "    <tr>\n",
       "      <th>1</th>\n",
       "      <td>img_001.jpg</td>\n",
       "      <td>1125</td>\n",
       "      <td>632</td>\n",
       "      <td>593</td>\n",
       "      <td>434</td>\n",
       "      <td>524</td>\n",
       "      <td>195</td>\n",
       "      <td>0</td>\n",
       "      <td>0</td>\n",
       "      <td>0</td>\n",
       "      <td>1</td>\n",
       "    </tr>\n",
       "    <tr>\n",
       "      <th>2</th>\n",
       "      <td>img_002.jpg</td>\n",
       "      <td>1600</td>\n",
       "      <td>1168</td>\n",
       "      <td>762</td>\n",
       "      <td>222</td>\n",
       "      <td>203</td>\n",
       "      <td>213</td>\n",
       "      <td>0</td>\n",
       "      <td>0</td>\n",
       "      <td>1</td>\n",
       "      <td>0</td>\n",
       "    </tr>\n",
       "    <tr>\n",
       "      <th>3</th>\n",
       "      <td>img_003.jpg</td>\n",
       "      <td>1024</td>\n",
       "      <td>683</td>\n",
       "      <td>498</td>\n",
       "      <td>281</td>\n",
       "      <td>130</td>\n",
       "      <td>95</td>\n",
       "      <td>0</td>\n",
       "      <td>0</td>\n",
       "      <td>1</td>\n",
       "      <td>0</td>\n",
       "    </tr>\n",
       "    <tr>\n",
       "      <th>4</th>\n",
       "      <td>img_004.jpg</td>\n",
       "      <td>225</td>\n",
       "      <td>225</td>\n",
       "      <td>132</td>\n",
       "      <td>119</td>\n",
       "      <td>53</td>\n",
       "      <td>40</td>\n",
       "      <td>0</td>\n",
       "      <td>0</td>\n",
       "      <td>1</td>\n",
       "      <td>0</td>\n",
       "    </tr>\n",
       "    <tr>\n",
       "      <th>...</th>\n",
       "      <td>...</td>\n",
       "      <td>...</td>\n",
       "      <td>...</td>\n",
       "      <td>...</td>\n",
       "      <td>...</td>\n",
       "      <td>...</td>\n",
       "      <td>...</td>\n",
       "      <td>...</td>\n",
       "      <td>...</td>\n",
       "      <td>...</td>\n",
       "      <td>...</td>\n",
       "    </tr>\n",
       "    <tr>\n",
       "      <th>254</th>\n",
       "      <td>img_108.jpg</td>\n",
       "      <td>300</td>\n",
       "      <td>168</td>\n",
       "      <td>229</td>\n",
       "      <td>38</td>\n",
       "      <td>69</td>\n",
       "      <td>47</td>\n",
       "      <td>1</td>\n",
       "      <td>0</td>\n",
       "      <td>0</td>\n",
       "      <td>0</td>\n",
       "    </tr>\n",
       "    <tr>\n",
       "      <th>255</th>\n",
       "      <td>img_109.jpg</td>\n",
       "      <td>262</td>\n",
       "      <td>192</td>\n",
       "      <td>77</td>\n",
       "      <td>92</td>\n",
       "      <td>47</td>\n",
       "      <td>64</td>\n",
       "      <td>1</td>\n",
       "      <td>0</td>\n",
       "      <td>0</td>\n",
       "      <td>0</td>\n",
       "    </tr>\n",
       "    <tr>\n",
       "      <th>256</th>\n",
       "      <td>img_109.jpg</td>\n",
       "      <td>262</td>\n",
       "      <td>192</td>\n",
       "      <td>20</td>\n",
       "      <td>124</td>\n",
       "      <td>25</td>\n",
       "      <td>32</td>\n",
       "      <td>1</td>\n",
       "      <td>0</td>\n",
       "      <td>0</td>\n",
       "      <td>0</td>\n",
       "    </tr>\n",
       "    <tr>\n",
       "      <th>257</th>\n",
       "      <td>img_110.jpg</td>\n",
       "      <td>780</td>\n",
       "      <td>500</td>\n",
       "      <td>318</td>\n",
       "      <td>104</td>\n",
       "      <td>132</td>\n",
       "      <td>181</td>\n",
       "      <td>1</td>\n",
       "      <td>0</td>\n",
       "      <td>0</td>\n",
       "      <td>0</td>\n",
       "    </tr>\n",
       "    <tr>\n",
       "      <th>258</th>\n",
       "      <td>img_110.jpg</td>\n",
       "      <td>780</td>\n",
       "      <td>500</td>\n",
       "      <td>141</td>\n",
       "      <td>108</td>\n",
       "      <td>214</td>\n",
       "      <td>201</td>\n",
       "      <td>1</td>\n",
       "      <td>0</td>\n",
       "      <td>0</td>\n",
       "      <td>0</td>\n",
       "    </tr>\n",
       "  </tbody>\n",
       "</table>\n",
       "<p>259 rows × 11 columns</p>\n",
       "</div>"
      ],
      "text/plain": [
       "        filename  img_width  img_height  bb_x  bb_y  bb_width  bb_height  \\\n",
       "0    img_001.jpg       1125         632   706    47       286        189   \n",
       "1    img_001.jpg       1125         632   593   434       524        195   \n",
       "2    img_002.jpg       1600        1168   762   222       203        213   \n",
       "3    img_003.jpg       1024         683   498   281       130         95   \n",
       "4    img_004.jpg        225         225   132   119        53         40   \n",
       "..           ...        ...         ...   ...   ...       ...        ...   \n",
       "254  img_108.jpg        300         168   229    38        69         47   \n",
       "255  img_109.jpg        262         192    77    92        47         64   \n",
       "256  img_109.jpg        262         192    20   124        25         32   \n",
       "257  img_110.jpg        780         500   318   104       132        181   \n",
       "258  img_110.jpg        780         500   141   108       214        201   \n",
       "\n",
       "     class_boots  class_hardhat  class_mask  class_vest  \n",
       "0              0              1           0           0  \n",
       "1              0              0           0           1  \n",
       "2              0              0           1           0  \n",
       "3              0              0           1           0  \n",
       "4              0              0           1           0  \n",
       "..           ...            ...         ...         ...  \n",
       "254            1              0           0           0  \n",
       "255            1              0           0           0  \n",
       "256            1              0           0           0  \n",
       "257            1              0           0           0  \n",
       "258            1              0           0           0  \n",
       "\n",
       "[259 rows x 11 columns]"
      ]
     },
     "execution_count": 22,
     "metadata": {},
     "output_type": "execute_result"
    }
   ],
   "source": [
    "df"
   ]
  },
  {
   "cell_type": "code",
   "execution_count": 27,
   "metadata": {
    "ExecuteTime": {
     "end_time": "2020-10-17T18:50:27.351118Z",
     "start_time": "2020-10-17T18:50:27.332116Z"
    }
   },
   "outputs": [
    {
     "data": {
      "text/html": [
       "<div>\n",
       "<style scoped>\n",
       "    .dataframe tbody tr th:only-of-type {\n",
       "        vertical-align: middle;\n",
       "    }\n",
       "\n",
       "    .dataframe tbody tr th {\n",
       "        vertical-align: top;\n",
       "    }\n",
       "\n",
       "    .dataframe thead th {\n",
       "        text-align: right;\n",
       "    }\n",
       "</style>\n",
       "<table border=\"1\" class=\"dataframe\">\n",
       "  <thead>\n",
       "    <tr style=\"text-align: right;\">\n",
       "      <th></th>\n",
       "      <th>filename</th>\n",
       "      <th>img_width</th>\n",
       "      <th>img_height</th>\n",
       "      <th>bb_x</th>\n",
       "      <th>bb_y</th>\n",
       "      <th>bb_width</th>\n",
       "      <th>bb_height</th>\n",
       "      <th>class_boots</th>\n",
       "      <th>class_hardhat</th>\n",
       "      <th>class_mask</th>\n",
       "      <th>class_vest</th>\n",
       "      <th>img_width_n</th>\n",
       "      <th>img_height_n</th>\n",
       "      <th>bb_width_n</th>\n",
       "      <th>bb_height_n</th>\n",
       "    </tr>\n",
       "  </thead>\n",
       "  <tbody>\n",
       "    <tr>\n",
       "      <th>0</th>\n",
       "      <td>img_001.jpg</td>\n",
       "      <td>1125</td>\n",
       "      <td>632</td>\n",
       "      <td>706</td>\n",
       "      <td>47</td>\n",
       "      <td>286</td>\n",
       "      <td>189</td>\n",
       "      <td>0</td>\n",
       "      <td>1</td>\n",
       "      <td>0</td>\n",
       "      <td>0</td>\n",
       "      <td>1.0</td>\n",
       "      <td>1.0</td>\n",
       "      <td>0.254222</td>\n",
       "      <td>0.299051</td>\n",
       "    </tr>\n",
       "    <tr>\n",
       "      <th>1</th>\n",
       "      <td>img_001.jpg</td>\n",
       "      <td>1125</td>\n",
       "      <td>632</td>\n",
       "      <td>593</td>\n",
       "      <td>434</td>\n",
       "      <td>524</td>\n",
       "      <td>195</td>\n",
       "      <td>0</td>\n",
       "      <td>0</td>\n",
       "      <td>0</td>\n",
       "      <td>1</td>\n",
       "      <td>1.0</td>\n",
       "      <td>1.0</td>\n",
       "      <td>0.465778</td>\n",
       "      <td>0.308544</td>\n",
       "    </tr>\n",
       "    <tr>\n",
       "      <th>2</th>\n",
       "      <td>img_002.jpg</td>\n",
       "      <td>1600</td>\n",
       "      <td>1168</td>\n",
       "      <td>762</td>\n",
       "      <td>222</td>\n",
       "      <td>203</td>\n",
       "      <td>213</td>\n",
       "      <td>0</td>\n",
       "      <td>0</td>\n",
       "      <td>1</td>\n",
       "      <td>0</td>\n",
       "      <td>1.0</td>\n",
       "      <td>1.0</td>\n",
       "      <td>0.126875</td>\n",
       "      <td>0.182363</td>\n",
       "    </tr>\n",
       "    <tr>\n",
       "      <th>3</th>\n",
       "      <td>img_003.jpg</td>\n",
       "      <td>1024</td>\n",
       "      <td>683</td>\n",
       "      <td>498</td>\n",
       "      <td>281</td>\n",
       "      <td>130</td>\n",
       "      <td>95</td>\n",
       "      <td>0</td>\n",
       "      <td>0</td>\n",
       "      <td>1</td>\n",
       "      <td>0</td>\n",
       "      <td>1.0</td>\n",
       "      <td>1.0</td>\n",
       "      <td>0.126953</td>\n",
       "      <td>0.139092</td>\n",
       "    </tr>\n",
       "    <tr>\n",
       "      <th>4</th>\n",
       "      <td>img_004.jpg</td>\n",
       "      <td>225</td>\n",
       "      <td>225</td>\n",
       "      <td>132</td>\n",
       "      <td>119</td>\n",
       "      <td>53</td>\n",
       "      <td>40</td>\n",
       "      <td>0</td>\n",
       "      <td>0</td>\n",
       "      <td>1</td>\n",
       "      <td>0</td>\n",
       "      <td>1.0</td>\n",
       "      <td>1.0</td>\n",
       "      <td>0.235556</td>\n",
       "      <td>0.177778</td>\n",
       "    </tr>\n",
       "  </tbody>\n",
       "</table>\n",
       "</div>"
      ],
      "text/plain": [
       "      filename  img_width  img_height  bb_x  bb_y  bb_width  bb_height  \\\n",
       "0  img_001.jpg       1125         632   706    47       286        189   \n",
       "1  img_001.jpg       1125         632   593   434       524        195   \n",
       "2  img_002.jpg       1600        1168   762   222       203        213   \n",
       "3  img_003.jpg       1024         683   498   281       130         95   \n",
       "4  img_004.jpg        225         225   132   119        53         40   \n",
       "\n",
       "   class_boots  class_hardhat  class_mask  class_vest  img_width_n  \\\n",
       "0            0              1           0           0          1.0   \n",
       "1            0              0           0           1          1.0   \n",
       "2            0              0           1           0          1.0   \n",
       "3            0              0           1           0          1.0   \n",
       "4            0              0           1           0          1.0   \n",
       "\n",
       "   img_height_n  bb_width_n  bb_height_n  \n",
       "0           1.0    0.254222     0.299051  \n",
       "1           1.0    0.465778     0.308544  \n",
       "2           1.0    0.126875     0.182363  \n",
       "3           1.0    0.126953     0.139092  \n",
       "4           1.0    0.235556     0.177778  "
      ]
     },
     "execution_count": 27,
     "metadata": {},
     "output_type": "execute_result"
    }
   ],
   "source": [
    "df['img_width_n']  = df['img_width'].div(df['img_width'])\n",
    "df['img_height_n'] = df['img_height'].div(df['img_height'])\n",
    "df['bb_width_n']     = df['bb_width'].div(df['img_width'])\n",
    "df['bb_height_n']    = df['bb_height'].div(df['img_height'])\n",
    "\n",
    "df.head()"
   ]
  },
  {
   "cell_type": "code",
   "execution_count": 30,
   "metadata": {
    "ExecuteTime": {
     "end_time": "2020-10-17T18:52:30.696202Z",
     "start_time": "2020-10-17T18:52:30.687203Z"
    }
   },
   "outputs": [
    {
     "data": {
      "text/html": [
       "<div>\n",
       "<style scoped>\n",
       "    .dataframe tbody tr th:only-of-type {\n",
       "        vertical-align: middle;\n",
       "    }\n",
       "\n",
       "    .dataframe tbody tr th {\n",
       "        vertical-align: top;\n",
       "    }\n",
       "\n",
       "    .dataframe thead th {\n",
       "        text-align: right;\n",
       "    }\n",
       "</style>\n",
       "<table border=\"1\" class=\"dataframe\">\n",
       "  <thead>\n",
       "    <tr style=\"text-align: right;\">\n",
       "      <th></th>\n",
       "      <th>bb_width_n</th>\n",
       "      <th>bb_height_n</th>\n",
       "    </tr>\n",
       "  </thead>\n",
       "  <tbody>\n",
       "    <tr>\n",
       "      <th>0</th>\n",
       "      <td>0.254222</td>\n",
       "      <td>0.299051</td>\n",
       "    </tr>\n",
       "    <tr>\n",
       "      <th>1</th>\n",
       "      <td>0.465778</td>\n",
       "      <td>0.308544</td>\n",
       "    </tr>\n",
       "    <tr>\n",
       "      <th>2</th>\n",
       "      <td>0.126875</td>\n",
       "      <td>0.182363</td>\n",
       "    </tr>\n",
       "    <tr>\n",
       "      <th>3</th>\n",
       "      <td>0.126953</td>\n",
       "      <td>0.139092</td>\n",
       "    </tr>\n",
       "    <tr>\n",
       "      <th>4</th>\n",
       "      <td>0.235556</td>\n",
       "      <td>0.177778</td>\n",
       "    </tr>\n",
       "  </tbody>\n",
       "</table>\n",
       "</div>"
      ],
      "text/plain": [
       "   bb_width_n  bb_height_n\n",
       "0    0.254222     0.299051\n",
       "1    0.465778     0.308544\n",
       "2    0.126875     0.182363\n",
       "3    0.126953     0.139092\n",
       "4    0.235556     0.177778"
      ]
     },
     "execution_count": 30,
     "metadata": {},
     "output_type": "execute_result"
    }
   ],
   "source": [
    "table_for_algo = df[df.columns[len(df.columns)-2:]]\n",
    "table_for_algo.head()"
   ]
  },
  {
   "cell_type": "code",
   "execution_count": 32,
   "metadata": {
    "ExecuteTime": {
     "end_time": "2020-10-17T18:53:10.419629Z",
     "start_time": "2020-10-17T18:53:10.095629Z"
    }
   },
   "outputs": [
    {
     "data": {
      "text/plain": [
       "[<matplotlib.lines.Line2D at 0x1d55d75aa08>]"
      ]
     },
     "execution_count": 32,
     "metadata": {},
     "output_type": "execute_result"
    },
    {
     "data": {
      "image/png": "[encoded data removed]",
      "text/plain": [
       "<Figure size 432x288 with 1 Axes>"
      ]
     },
     "metadata": {
      "needs_background": "light"
     },
     "output_type": "display_data"
    }
   ],
   "source": [
    "import matplotlib.pyplot as plt\n",
    "plt.plot(table_for_algo['bb_width_n'],table_for_algo['bb_height_n'],'.')"
   ]
  },
  {
   "cell_type": "code",
   "execution_count": 33,
   "metadata": {
    "ExecuteTime": {
     "end_time": "2020-10-17T18:53:34.886524Z",
     "start_time": "2020-10-17T18:53:32.105602Z"
    }
   },
   "outputs": [
    {
     "data": {
      "image/png": "[encoded data removed]",
      "text/plain": [
       "<Figure size 432x288 with 1 Axes>"
      ]
     },
     "metadata": {
      "needs_background": "light"
     },
     "output_type": "display_data"
    }
   ],
   "source": [
    "from sklearn.cluster import KMeans\n",
    "from sklearn import metrics\n",
    "from scipy.spatial.distance import cdist\n",
    "import numpy as np\n",
    "import matplotlib.pyplot as plt\n",
    "\n",
    "\n",
    "\n",
    "# k means determine k\n",
    "distortions = []\n",
    "K = range(1,10)\n",
    "for k in K:\n",
    "    kmeanModel = KMeans(n_clusters=k).fit(table_for_algo)\n",
    "    kmeanModel.fit(table_for_algo)\n",
    "    distortions.append(sum(np.min(cdist(table_for_algo, kmeanModel.cluster_centers_, 'euclidean'), axis=1)) /table_for_algo.shape[0])\n",
    "\n",
    "# Plot the elbow\n",
    "plt.plot(K, distortions, '.-')\n",
    "plt.xlabel('k')\n",
    "plt.ylabel('Distortion')\n",
    "plt.title('The Elbow Method showing the optimal k')\n",
    "plt.show()"
   ]
  },
  {
   "cell_type": "code",
   "execution_count": 44,
   "metadata": {
    "ExecuteTime": {
     "end_time": "2020-10-17T20:17:55.614425Z",
     "start_time": "2020-10-17T20:17:55.213379Z"
    }
   },
   "outputs": [],
   "source": [
    "height = list(table_for_algo['bb_height_n'])\n",
    "width  = list(table_for_algo['bb_width_n'])\n",
    "ks = range(1,10)\n",
    "meaniou = []\n",
    "for k in ks:\n",
    "    cl = KMeans(n_clusters=k)\n",
    "    cl.fit(table_for_algo)\n",
    "    cx = []\n",
    "    cy = []\n",
    "    mapcx  = {}\n",
    "    mapcy = {}\n",
    "    iou = []\n",
    "    for i in range(259):\n",
    "        l = cl.labels_[i]\n",
    "        cx.append(cl.cluster_centers_[l][0])\n",
    "        cy.append(cl.cluster_centers_[l][1])\n",
    "        iou.append(min(width[i] ,cx[i])* min(height[i] , cy[i])/(height[i]*width[i]+ cx[i]*cy[i]- min(width[i] , cx[i])* min(height[i] ,cy[i])))\n",
    "    meaniou.append(sum(iou)/50)"
   ]
  },
  {
   "cell_type": "code",
   "execution_count": 45,
   "metadata": {
    "ExecuteTime": {
     "end_time": "2020-10-17T20:17:57.689911Z",
     "start_time": "2020-10-17T20:17:57.501912Z"
    }
   },
   "outputs": [
    {
     "data": {
      "image/png": "[encoded data removed]",
      "text/plain": [
       "<Figure size 432x288 with 1 Axes>"
      ]
     },
     "metadata": {
      "needs_background": "light"
     },
     "output_type": "display_data"
    }
   ],
   "source": [
    "plt.plot(range(1,10),meaniou,'.-',label = \"iou\")\n",
    "plt.plot([3,3],[0.4,0.75],label = \"k = 3\")\n",
    "plt.plot([5,5],[0.4,0.75],label = \"k = 5\")\n",
    "plt.xlabel('centroids')\n",
    "plt.ylabel('Mean Iou')\n",
    "plt.title('The Mean IOU for each k')\n",
    "plt.legend()\n",
    "plt.show()"
   ]
  },
  {
   "cell_type": "code",
   "execution_count": 46,
   "metadata": {
    "ExecuteTime": {
     "end_time": "2020-10-17T20:18:10.215450Z",
     "start_time": "2020-10-17T20:18:10.209471Z"
    }
   },
   "outputs": [
    {
     "data": {
      "text/plain": [
       "(3.328210463033767, 3.3547304254973613, 3.5316585045302924, 3.545170488532233)"
      ]
     },
     "execution_count": 46,
     "metadata": {},
     "output_type": "execute_result"
    }
   ],
   "source": [
    "meaniou[3],meaniou[4],meaniou[5],meaniou[6]"
   ]
  },
  {
   "cell_type": "code",
   "execution_count": 47,
   "metadata": {
    "ExecuteTime": {
     "end_time": "2020-10-17T20:18:13.183411Z",
     "start_time": "2020-10-17T20:18:12.979373Z"
    }
   },
   "outputs": [
    {
     "data": {
      "image/png": "[encoded data removed]",
      "text/plain": [
       "<Figure size 432x288 with 1 Axes>"
      ]
     },
     "metadata": {
      "needs_background": "light"
     },
     "output_type": "display_data"
    }
   ],
   "source": [
    "array_points = np.array(table_for_algo)\n",
    "cl3 = KMeans(3)\n",
    "cl3.fit(array_points)\n",
    "\n",
    "plt.scatter(cl3.cluster_centers_[:,0] ,cl3.cluster_centers_[:,1], color='red',s = 100,marker = 'o', label='centroids')\n",
    "plt.scatter(list(table_for_algo['bb_width_n']), list(table_for_algo['bb_height_n']), marker=\"v\",c=list(cl3.labels_.astype(float)), label = \"data\")\n",
    "plt.legend()\n",
    "plt.xlabel('bb_width_n')\n",
    "plt.ylabel('bb_height_n')\n",
    "plt.title('K Means for k = 3')\n",
    "plt.legend()\n",
    "plt.show()"
   ]
  },
  {
   "cell_type": "code",
   "execution_count": 48,
   "metadata": {
    "ExecuteTime": {
     "end_time": "2020-10-17T20:18:22.270614Z",
     "start_time": "2020-10-17T20:18:22.066584Z"
    }
   },
   "outputs": [
    {
     "data": {
      "image/png": "[encoded data removed]",
      "text/plain": [
       "<Figure size 432x288 with 1 Axes>"
      ]
     },
     "metadata": {
      "needs_background": "light"
     },
     "output_type": "display_data"
    }
   ],
   "source": [
    "# array_points = np.array(table_for_algo)\n",
    "cl3 = KMeans(4)\n",
    "cl3.fit(array_points)\n",
    "\n",
    "plt.scatter(cl3.cluster_centers_[:,0] ,cl3.cluster_centers_[:,1], color='red',s = 100,marker = 'o', label='centroids')\n",
    "plt.scatter(list(table_for_algo['bb_width_n']), list(table_for_algo['bb_height_n']), marker=\"v\",c=list(cl3.labels_.astype(float)), label = \"data\")\n",
    "plt.legend()\n",
    "plt.xlabel('bb_width_n')\n",
    "plt.ylabel('bb_height_n')\n",
    "plt.title('K Means for k = 4')\n",
    "plt.legend()\n",
    "plt.show()"
   ]
  },
  {
   "cell_type": "code",
   "execution_count": 49,
   "metadata": {
    "ExecuteTime": {
     "end_time": "2020-10-17T20:18:23.664610Z",
     "start_time": "2020-10-17T20:18:23.104633Z"
    }
   },
   "outputs": [
    {
     "data": {
      "image/png": "[encoded data removed]",
      "text/plain": [
       "<Figure size 432x288 with 1 Axes>"
      ]
     },
     "metadata": {
      "needs_background": "light"
     },
     "output_type": "display_data"
    }
   ],
   "source": [
    "# array_points = np.array(table_for_algo)\n",
    "cl3 = KMeans(5)\n",
    "cl3.fit(array_points)\n",
    "\n",
    "plt.scatter(cl3.cluster_centers_[:,0] ,cl3.cluster_centers_[:,1], color='red',s = 100,marker = 'o', label='centroids')\n",
    "plt.scatter(list(table_for_algo['bb_width_n']), list(table_for_algo['bb_height_n']), marker=\"v\",c=list(cl3.labels_.astype(float)), label = \"data\")\n",
    "plt.legend()\n",
    "plt.xlabel('bb_width_n')\n",
    "plt.ylabel('bb_height_n')\n",
    "plt.title('K Means for k = 5')\n",
    "plt.legend()\n",
    "plt.show()"
   ]
  },
  {
   "cell_type": "code",
   "execution_count": null,
   "metadata": {},
   "outputs": [],
   "source": []
  }
 ],
 "metadata": {
  "kernelspec": {
   "display_name": "Python 3",
   "language": "python",
   "name": "python3"
  },
  "language_info": {
   "codemirror_mode": {
    "name": "ipython",
    "version": 3
   },
   "file_extension": ".py",
   "mimetype": "text/x-python",
   "name": "python",
   "nbconvert_exporter": "python",
   "pygments_lexer": "ipython3",
   "version": "3.7.7"
  },
  "toc": {
   "base_numbering": 1,
   "nav_menu": {},
   "number_sections": true,
   "sideBar": true,
   "skip_h1_title": false,
   "title_cell": "Table of Contents",
   "title_sidebar": "Contents",
   "toc_cell": false,
   "toc_position": {},
   "toc_section_display": true,
   "toc_window_display": false
  },
  "varInspector": {
   "cols": {
    "lenName": 16,
    "lenType": 16,
    "lenVar": 40
   },
   "kernels_config": {
    "python": {
     "delete_cmd_postfix": "",
     "delete_cmd_prefix": "del ",
     "library": "var_list.py",
     "varRefreshCmd": "print(var_dic_list())"
    },
    "r": {
     "delete_cmd_postfix": ") ",
     "delete_cmd_prefix": "rm(",
     "library": "var_list.r",
     "varRefreshCmd": "cat(var_dic_list()) "
    }
   },
   "types_to_exclude": [
    "module",
    "function",
    "builtin_function_or_method",
    "instance",
    "_Feature"
   ],
   "window_display": false
  }
 },
 "nbformat": 4,
 "nbformat_minor": 4
}
